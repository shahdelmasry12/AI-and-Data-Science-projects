{
 "cells": [
  {
   "cell_type": "code",
   "execution_count": 1,
   "id": "ac6b2125",
   "metadata": {
    "_cell_guid": "b1076dfc-b9ad-4769-8c92-a6c4dae69d19",
    "_uuid": "8f2839f25d086af736a60e9eeb907d3b93b6e0e5",
    "execution": {
     "iopub.execute_input": "2025-09-16T07:05:39.778804Z",
     "iopub.status.busy": "2025-09-16T07:05:39.778438Z",
     "iopub.status.idle": "2025-09-16T07:05:41.606155Z",
     "shell.execute_reply": "2025-09-16T07:05:41.605205Z"
    },
    "papermill": {
     "duration": 1.833555,
     "end_time": "2025-09-16T07:05:41.607770",
     "exception": false,
     "start_time": "2025-09-16T07:05:39.774215",
     "status": "completed"
    },
    "tags": []
   },
   "outputs": [
    {
     "name": "stdout",
     "output_type": "stream",
     "text": [
      "/kaggle/input/used-car-dataset/used_car_dataset.csv\n"
     ]
    }
   ],
   "source": [
    "# This Python 3 environment comes with many helpful analytics libraries installed\n",
    "# It is defined by the kaggle/python Docker image: https://github.com/kaggle/docker-python\n",
    "# For example, here's several helpful packages to load\n",
    "\n",
    "import numpy as np # linear algebra\n",
    "import pandas as pd # data processing, CSV file I/O (e.g. pd.read_csv)\n",
    "\n",
    "# Input data files are available in the read-only \"../input/\" directory\n",
    "# For example, running this (by clicking run or pressing Shift+Enter) will list all files under the input directory\n",
    "\n",
    "import os\n",
    "for dirname, _, filenames in os.walk('/kaggle/input'):\n",
    "    for filename in filenames:\n",
    "        print(os.path.join(dirname, filename))\n",
    "\n",
    "# You can write up to 20GB to the current directory (/kaggle/working/) that gets preserved as output when you create a version using \"Save & Run All\" \n",
    "# You can also write temporary files to /kaggle/temp/, but they won't be saved outside of the current session"
   ]
  },
  {
   "cell_type": "markdown",
   "id": "e22550a8",
   "metadata": {
    "papermill": {
     "duration": 0.003535,
     "end_time": "2025-09-16T07:05:41.614441",
     "exception": false,
     "start_time": "2025-09-16T07:05:41.610906",
     "status": "completed"
    },
    "tags": []
   },
   "source": [
    "# Upload Data"
   ]
  },
  {
   "cell_type": "code",
   "execution_count": 2,
   "id": "85ad7f4e",
   "metadata": {
    "execution": {
     "iopub.execute_input": "2025-09-16T07:05:41.621551Z",
     "iopub.status.busy": "2025-09-16T07:05:41.621096Z",
     "iopub.status.idle": "2025-09-16T07:05:43.339733Z",
     "shell.execute_reply": "2025-09-16T07:05:43.338898Z"
    },
    "papermill": {
     "duration": 1.723772,
     "end_time": "2025-09-16T07:05:43.341389",
     "exception": false,
     "start_time": "2025-09-16T07:05:41.617617",
     "status": "completed"
    },
    "tags": []
   },
   "outputs": [],
   "source": [
    "import numpy as np\n",
    "import pandas as pd\n",
    "import matplotlib.pyplot as plt\n",
    "%matplotlib inline\n",
    "import seaborn as sns"
   ]
  },
  {
   "cell_type": "code",
   "execution_count": 3,
   "id": "54f0ae07",
   "metadata": {
    "execution": {
     "iopub.execute_input": "2025-09-16T07:05:43.348185Z",
     "iopub.status.busy": "2025-09-16T07:05:43.347725Z",
     "iopub.status.idle": "2025-09-16T07:05:43.446027Z",
     "shell.execute_reply": "2025-09-16T07:05:43.444989Z"
    },
    "papermill": {
     "duration": 0.103272,
     "end_time": "2025-09-16T07:05:43.447427",
     "exception": false,
     "start_time": "2025-09-16T07:05:43.344155",
     "status": "completed"
    },
    "tags": []
   },
   "outputs": [
    {
     "data": {
      "text/html": [
       "<div>\n",
       "<style scoped>\n",
       "    .dataframe tbody tr th:only-of-type {\n",
       "        vertical-align: middle;\n",
       "    }\n",
       "\n",
       "    .dataframe tbody tr th {\n",
       "        vertical-align: top;\n",
       "    }\n",
       "\n",
       "    .dataframe thead th {\n",
       "        text-align: right;\n",
       "    }\n",
       "</style>\n",
       "<table border=\"1\" class=\"dataframe\">\n",
       "  <thead>\n",
       "    <tr style=\"text-align: right;\">\n",
       "      <th></th>\n",
       "      <th>0</th>\n",
       "      <th>1</th>\n",
       "      <th>2</th>\n",
       "      <th>3</th>\n",
       "      <th>4</th>\n",
       "    </tr>\n",
       "  </thead>\n",
       "  <tbody>\n",
       "    <tr>\n",
       "      <th>Brand</th>\n",
       "      <td>Honda</td>\n",
       "      <td>Toyota</td>\n",
       "      <td>Volkswagen</td>\n",
       "      <td>Maruti Suzuki</td>\n",
       "      <td>Maruti Suzuki</td>\n",
       "    </tr>\n",
       "    <tr>\n",
       "      <th>model</th>\n",
       "      <td>City</td>\n",
       "      <td>Innova</td>\n",
       "      <td>VentoTest</td>\n",
       "      <td>Swift</td>\n",
       "      <td>Baleno</td>\n",
       "    </tr>\n",
       "    <tr>\n",
       "      <th>Year</th>\n",
       "      <td>2001</td>\n",
       "      <td>2009</td>\n",
       "      <td>2010</td>\n",
       "      <td>2017</td>\n",
       "      <td>2019</td>\n",
       "    </tr>\n",
       "    <tr>\n",
       "      <th>Age</th>\n",
       "      <td>23</td>\n",
       "      <td>15</td>\n",
       "      <td>14</td>\n",
       "      <td>7</td>\n",
       "      <td>5</td>\n",
       "    </tr>\n",
       "    <tr>\n",
       "      <th>kmDriven</th>\n",
       "      <td>98,000 km</td>\n",
       "      <td>190000.0 km</td>\n",
       "      <td>77,246 km</td>\n",
       "      <td>83,500 km</td>\n",
       "      <td>45,000 km</td>\n",
       "    </tr>\n",
       "    <tr>\n",
       "      <th>Transmission</th>\n",
       "      <td>Manual</td>\n",
       "      <td>Manual</td>\n",
       "      <td>Manual</td>\n",
       "      <td>Manual</td>\n",
       "      <td>Automatic</td>\n",
       "    </tr>\n",
       "    <tr>\n",
       "      <th>Owner</th>\n",
       "      <td>second</td>\n",
       "      <td>second</td>\n",
       "      <td>first</td>\n",
       "      <td>second</td>\n",
       "      <td>first</td>\n",
       "    </tr>\n",
       "    <tr>\n",
       "      <th>FuelType</th>\n",
       "      <td>Petrol</td>\n",
       "      <td>Diesel</td>\n",
       "      <td>Diesel</td>\n",
       "      <td>Diesel</td>\n",
       "      <td>Petrol</td>\n",
       "    </tr>\n",
       "    <tr>\n",
       "      <th>PostedDate</th>\n",
       "      <td>Nov-24</td>\n",
       "      <td>Jul-24</td>\n",
       "      <td>Nov-24</td>\n",
       "      <td>Nov-24</td>\n",
       "      <td>Nov-24</td>\n",
       "    </tr>\n",
       "    <tr>\n",
       "      <th>AdditionInfo</th>\n",
       "      <td>Honda City v teck in mint condition, valid gen...</td>\n",
       "      <td>Toyota Innova 2.5 G (Diesel) 7 Seater, 2009, D...</td>\n",
       "      <td>Volkswagen Vento 2010-2013 Diesel Breeze, 2010...</td>\n",
       "      <td>Maruti Suzuki Swift 2017 Diesel Good Condition</td>\n",
       "      <td>Maruti Suzuki Baleno Alpha CVT, 2019, Petrol</td>\n",
       "    </tr>\n",
       "    <tr>\n",
       "      <th>AskPrice</th>\n",
       "      <td>₹ 1,95,000</td>\n",
       "      <td>₹ 3,75,000</td>\n",
       "      <td>₹ 1,84,999</td>\n",
       "      <td>₹ 5,65,000</td>\n",
       "      <td>₹ 6,85,000</td>\n",
       "    </tr>\n",
       "  </tbody>\n",
       "</table>\n",
       "</div>"
      ],
      "text/plain": [
       "                                                              0  \\\n",
       "Brand                                                     Honda   \n",
       "model                                                      City   \n",
       "Year                                                       2001   \n",
       "Age                                                          23   \n",
       "kmDriven                                              98,000 km   \n",
       "Transmission                                             Manual   \n",
       "Owner                                                    second   \n",
       "FuelType                                                 Petrol   \n",
       "PostedDate                                               Nov-24   \n",
       "AdditionInfo  Honda City v teck in mint condition, valid gen...   \n",
       "AskPrice                                             ₹ 1,95,000   \n",
       "\n",
       "                                                              1  \\\n",
       "Brand                                                    Toyota   \n",
       "model                                                    Innova   \n",
       "Year                                                       2009   \n",
       "Age                                                          15   \n",
       "kmDriven                                            190000.0 km   \n",
       "Transmission                                             Manual   \n",
       "Owner                                                    second   \n",
       "FuelType                                                 Diesel   \n",
       "PostedDate                                               Jul-24   \n",
       "AdditionInfo  Toyota Innova 2.5 G (Diesel) 7 Seater, 2009, D...   \n",
       "AskPrice                                             ₹ 3,75,000   \n",
       "\n",
       "                                                              2  \\\n",
       "Brand                                                Volkswagen   \n",
       "model                                                 VentoTest   \n",
       "Year                                                       2010   \n",
       "Age                                                          14   \n",
       "kmDriven                                              77,246 km   \n",
       "Transmission                                             Manual   \n",
       "Owner                                                     first   \n",
       "FuelType                                                 Diesel   \n",
       "PostedDate                                               Nov-24   \n",
       "AdditionInfo  Volkswagen Vento 2010-2013 Diesel Breeze, 2010...   \n",
       "AskPrice                                             ₹ 1,84,999   \n",
       "\n",
       "                                                           3  \\\n",
       "Brand                                          Maruti Suzuki   \n",
       "model                                                  Swift   \n",
       "Year                                                    2017   \n",
       "Age                                                        7   \n",
       "kmDriven                                           83,500 km   \n",
       "Transmission                                          Manual   \n",
       "Owner                                                 second   \n",
       "FuelType                                              Diesel   \n",
       "PostedDate                                            Nov-24   \n",
       "AdditionInfo  Maruti Suzuki Swift 2017 Diesel Good Condition   \n",
       "AskPrice                                          ₹ 5,65,000   \n",
       "\n",
       "                                                         4  \n",
       "Brand                                        Maruti Suzuki  \n",
       "model                                               Baleno  \n",
       "Year                                                  2019  \n",
       "Age                                                      5  \n",
       "kmDriven                                         45,000 km  \n",
       "Transmission                                     Automatic  \n",
       "Owner                                                first  \n",
       "FuelType                                            Petrol  \n",
       "PostedDate                                          Nov-24  \n",
       "AdditionInfo  Maruti Suzuki Baleno Alpha CVT, 2019, Petrol  \n",
       "AskPrice                                        ₹ 6,85,000  "
      ]
     },
     "execution_count": 3,
     "metadata": {},
     "output_type": "execute_result"
    }
   ],
   "source": [
    "df = pd.read_csv(\"/kaggle/input/used-car-dataset/used_car_dataset.csv\")\n",
    "df.head().T\n"
   ]
  },
  {
   "cell_type": "markdown",
   "id": "e1035a17",
   "metadata": {
    "papermill": {
     "duration": 0.002548,
     "end_time": "2025-09-16T07:05:43.453042",
     "exception": false,
     "start_time": "2025-09-16T07:05:43.450494",
     "status": "completed"
    },
    "tags": []
   },
   "source": [
    "# Data Cleaning"
   ]
  },
  {
   "cell_type": "code",
   "execution_count": 4,
   "id": "94de3fb3",
   "metadata": {
    "execution": {
     "iopub.execute_input": "2025-09-16T07:05:43.459781Z",
     "iopub.status.busy": "2025-09-16T07:05:43.459418Z",
     "iopub.status.idle": "2025-09-16T07:05:43.465040Z",
     "shell.execute_reply": "2025-09-16T07:05:43.464317Z"
    },
    "papermill": {
     "duration": 0.010639,
     "end_time": "2025-09-16T07:05:43.466416",
     "exception": false,
     "start_time": "2025-09-16T07:05:43.455777",
     "status": "completed"
    },
    "tags": []
   },
   "outputs": [
    {
     "data": {
      "text/plain": [
       "(9582, 11)"
      ]
     },
     "execution_count": 4,
     "metadata": {},
     "output_type": "execute_result"
    }
   ],
   "source": [
    "df.shape"
   ]
  },
  {
   "cell_type": "code",
   "execution_count": 5,
   "id": "ed9dfc2a",
   "metadata": {
    "execution": {
     "iopub.execute_input": "2025-09-16T07:05:43.473578Z",
     "iopub.status.busy": "2025-09-16T07:05:43.473259Z",
     "iopub.status.idle": "2025-09-16T07:05:43.503886Z",
     "shell.execute_reply": "2025-09-16T07:05:43.502796Z"
    },
    "papermill": {
     "duration": 0.035896,
     "end_time": "2025-09-16T07:05:43.505528",
     "exception": false,
     "start_time": "2025-09-16T07:05:43.469632",
     "status": "completed"
    },
    "tags": []
   },
   "outputs": [
    {
     "name": "stdout",
     "output_type": "stream",
     "text": [
      "<class 'pandas.core.frame.DataFrame'>\n",
      "RangeIndex: 9582 entries, 0 to 9581\n",
      "Data columns (total 11 columns):\n",
      " #   Column        Non-Null Count  Dtype \n",
      "---  ------        --------------  ----- \n",
      " 0   Brand         9582 non-null   object\n",
      " 1   model         9582 non-null   object\n",
      " 2   Year          9582 non-null   int64 \n",
      " 3   Age           9582 non-null   int64 \n",
      " 4   kmDriven      9535 non-null   object\n",
      " 5   Transmission  9582 non-null   object\n",
      " 6   Owner         9582 non-null   object\n",
      " 7   FuelType      9582 non-null   object\n",
      " 8   PostedDate    9582 non-null   object\n",
      " 9   AdditionInfo  9582 non-null   object\n",
      " 10  AskPrice      9582 non-null   object\n",
      "dtypes: int64(2), object(9)\n",
      "memory usage: 823.6+ KB\n"
     ]
    }
   ],
   "source": [
    "df.info()"
   ]
  },
  {
   "cell_type": "code",
   "execution_count": 6,
   "id": "a3fe16da",
   "metadata": {
    "execution": {
     "iopub.execute_input": "2025-09-16T07:05:43.513351Z",
     "iopub.status.busy": "2025-09-16T07:05:43.513036Z",
     "iopub.status.idle": "2025-09-16T07:05:43.524944Z",
     "shell.execute_reply": "2025-09-16T07:05:43.524217Z"
    },
    "papermill": {
     "duration": 0.017551,
     "end_time": "2025-09-16T07:05:43.526222",
     "exception": false,
     "start_time": "2025-09-16T07:05:43.508671",
     "status": "completed"
    },
    "tags": []
   },
   "outputs": [
    {
     "data": {
      "text/plain": [
       "Brand            0\n",
       "model            0\n",
       "Year             0\n",
       "Age              0\n",
       "kmDriven        47\n",
       "Transmission     0\n",
       "Owner            0\n",
       "FuelType         0\n",
       "PostedDate       0\n",
       "AdditionInfo     0\n",
       "AskPrice         0\n",
       "dtype: int64"
      ]
     },
     "execution_count": 6,
     "metadata": {},
     "output_type": "execute_result"
    }
   ],
   "source": [
    "df.isnull().sum()"
   ]
  },
  {
   "cell_type": "code",
   "execution_count": 7,
   "id": "658ba1dd",
   "metadata": {
    "execution": {
     "iopub.execute_input": "2025-09-16T07:05:43.533613Z",
     "iopub.status.busy": "2025-09-16T07:05:43.533274Z",
     "iopub.status.idle": "2025-09-16T07:05:43.544210Z",
     "shell.execute_reply": "2025-09-16T07:05:43.543320Z"
    },
    "papermill": {
     "duration": 0.016175,
     "end_time": "2025-09-16T07:05:43.545557",
     "exception": false,
     "start_time": "2025-09-16T07:05:43.529382",
     "status": "completed"
    },
    "tags": []
   },
   "outputs": [
    {
     "data": {
      "text/html": [
       "<div>\n",
       "<style scoped>\n",
       "    .dataframe tbody tr th:only-of-type {\n",
       "        vertical-align: middle;\n",
       "    }\n",
       "\n",
       "    .dataframe tbody tr th {\n",
       "        vertical-align: top;\n",
       "    }\n",
       "\n",
       "    .dataframe thead th {\n",
       "        text-align: right;\n",
       "    }\n",
       "</style>\n",
       "<table border=\"1\" class=\"dataframe\">\n",
       "  <thead>\n",
       "    <tr style=\"text-align: right;\">\n",
       "      <th></th>\n",
       "      <th>0</th>\n",
       "      <th>1</th>\n",
       "      <th>2</th>\n",
       "      <th>3</th>\n",
       "      <th>4</th>\n",
       "    </tr>\n",
       "  </thead>\n",
       "  <tbody>\n",
       "    <tr>\n",
       "      <th>brand</th>\n",
       "      <td>Honda</td>\n",
       "      <td>Toyota</td>\n",
       "      <td>Volkswagen</td>\n",
       "      <td>Maruti Suzuki</td>\n",
       "      <td>Maruti Suzuki</td>\n",
       "    </tr>\n",
       "    <tr>\n",
       "      <th>model</th>\n",
       "      <td>City</td>\n",
       "      <td>Innova</td>\n",
       "      <td>VentoTest</td>\n",
       "      <td>Swift</td>\n",
       "      <td>Baleno</td>\n",
       "    </tr>\n",
       "    <tr>\n",
       "      <th>year</th>\n",
       "      <td>2001</td>\n",
       "      <td>2009</td>\n",
       "      <td>2010</td>\n",
       "      <td>2017</td>\n",
       "      <td>2019</td>\n",
       "    </tr>\n",
       "    <tr>\n",
       "      <th>age</th>\n",
       "      <td>23</td>\n",
       "      <td>15</td>\n",
       "      <td>14</td>\n",
       "      <td>7</td>\n",
       "      <td>5</td>\n",
       "    </tr>\n",
       "    <tr>\n",
       "      <th>kmdriven</th>\n",
       "      <td>98,000 km</td>\n",
       "      <td>190000.0 km</td>\n",
       "      <td>77,246 km</td>\n",
       "      <td>83,500 km</td>\n",
       "      <td>45,000 km</td>\n",
       "    </tr>\n",
       "    <tr>\n",
       "      <th>transmission</th>\n",
       "      <td>Manual</td>\n",
       "      <td>Manual</td>\n",
       "      <td>Manual</td>\n",
       "      <td>Manual</td>\n",
       "      <td>Automatic</td>\n",
       "    </tr>\n",
       "    <tr>\n",
       "      <th>owner</th>\n",
       "      <td>second</td>\n",
       "      <td>second</td>\n",
       "      <td>first</td>\n",
       "      <td>second</td>\n",
       "      <td>first</td>\n",
       "    </tr>\n",
       "    <tr>\n",
       "      <th>fueltype</th>\n",
       "      <td>Petrol</td>\n",
       "      <td>Diesel</td>\n",
       "      <td>Diesel</td>\n",
       "      <td>Diesel</td>\n",
       "      <td>Petrol</td>\n",
       "    </tr>\n",
       "    <tr>\n",
       "      <th>posteddate</th>\n",
       "      <td>Nov-24</td>\n",
       "      <td>Jul-24</td>\n",
       "      <td>Nov-24</td>\n",
       "      <td>Nov-24</td>\n",
       "      <td>Nov-24</td>\n",
       "    </tr>\n",
       "    <tr>\n",
       "      <th>additioninfo</th>\n",
       "      <td>Honda City v teck in mint condition, valid gen...</td>\n",
       "      <td>Toyota Innova 2.5 G (Diesel) 7 Seater, 2009, D...</td>\n",
       "      <td>Volkswagen Vento 2010-2013 Diesel Breeze, 2010...</td>\n",
       "      <td>Maruti Suzuki Swift 2017 Diesel Good Condition</td>\n",
       "      <td>Maruti Suzuki Baleno Alpha CVT, 2019, Petrol</td>\n",
       "    </tr>\n",
       "    <tr>\n",
       "      <th>askprice</th>\n",
       "      <td>₹ 1,95,000</td>\n",
       "      <td>₹ 3,75,000</td>\n",
       "      <td>₹ 1,84,999</td>\n",
       "      <td>₹ 5,65,000</td>\n",
       "      <td>₹ 6,85,000</td>\n",
       "    </tr>\n",
       "  </tbody>\n",
       "</table>\n",
       "</div>"
      ],
      "text/plain": [
       "                                                              0  \\\n",
       "brand                                                     Honda   \n",
       "model                                                      City   \n",
       "year                                                       2001   \n",
       "age                                                          23   \n",
       "kmdriven                                              98,000 km   \n",
       "transmission                                             Manual   \n",
       "owner                                                    second   \n",
       "fueltype                                                 Petrol   \n",
       "posteddate                                               Nov-24   \n",
       "additioninfo  Honda City v teck in mint condition, valid gen...   \n",
       "askprice                                             ₹ 1,95,000   \n",
       "\n",
       "                                                              1  \\\n",
       "brand                                                    Toyota   \n",
       "model                                                    Innova   \n",
       "year                                                       2009   \n",
       "age                                                          15   \n",
       "kmdriven                                            190000.0 km   \n",
       "transmission                                             Manual   \n",
       "owner                                                    second   \n",
       "fueltype                                                 Diesel   \n",
       "posteddate                                               Jul-24   \n",
       "additioninfo  Toyota Innova 2.5 G (Diesel) 7 Seater, 2009, D...   \n",
       "askprice                                             ₹ 3,75,000   \n",
       "\n",
       "                                                              2  \\\n",
       "brand                                                Volkswagen   \n",
       "model                                                 VentoTest   \n",
       "year                                                       2010   \n",
       "age                                                          14   \n",
       "kmdriven                                              77,246 km   \n",
       "transmission                                             Manual   \n",
       "owner                                                     first   \n",
       "fueltype                                                 Diesel   \n",
       "posteddate                                               Nov-24   \n",
       "additioninfo  Volkswagen Vento 2010-2013 Diesel Breeze, 2010...   \n",
       "askprice                                             ₹ 1,84,999   \n",
       "\n",
       "                                                           3  \\\n",
       "brand                                          Maruti Suzuki   \n",
       "model                                                  Swift   \n",
       "year                                                    2017   \n",
       "age                                                        7   \n",
       "kmdriven                                           83,500 km   \n",
       "transmission                                          Manual   \n",
       "owner                                                 second   \n",
       "fueltype                                              Diesel   \n",
       "posteddate                                            Nov-24   \n",
       "additioninfo  Maruti Suzuki Swift 2017 Diesel Good Condition   \n",
       "askprice                                          ₹ 5,65,000   \n",
       "\n",
       "                                                         4  \n",
       "brand                                        Maruti Suzuki  \n",
       "model                                               Baleno  \n",
       "year                                                  2019  \n",
       "age                                                      5  \n",
       "kmdriven                                         45,000 km  \n",
       "transmission                                     Automatic  \n",
       "owner                                                first  \n",
       "fueltype                                            Petrol  \n",
       "posteddate                                          Nov-24  \n",
       "additioninfo  Maruti Suzuki Baleno Alpha CVT, 2019, Petrol  \n",
       "askprice                                        ₹ 6,85,000  "
      ]
     },
     "execution_count": 7,
     "metadata": {},
     "output_type": "execute_result"
    }
   ],
   "source": [
    "df.columns=df.columns.str.lower()\n",
    "df.head().T"
   ]
  },
  {
   "cell_type": "code",
   "execution_count": 8,
   "id": "a9978d5e",
   "metadata": {
    "execution": {
     "iopub.execute_input": "2025-09-16T07:05:43.553950Z",
     "iopub.status.busy": "2025-09-16T07:05:43.553207Z",
     "iopub.status.idle": "2025-09-16T07:05:43.568726Z",
     "shell.execute_reply": "2025-09-16T07:05:43.567740Z"
    },
    "papermill": {
     "duration": 0.02127,
     "end_time": "2025-09-16T07:05:43.570308",
     "exception": false,
     "start_time": "2025-09-16T07:05:43.549038",
     "status": "completed"
    },
    "tags": []
   },
   "outputs": [
    {
     "name": "stdout",
     "output_type": "stream",
     "text": [
      "brand ['Honda' 'Toyota' 'Volkswagen' 'Maruti Suzuki' 'BMW' 'Ford' 'Kia'\n",
      " 'Mercedes-Benz' 'Hyundai' 'Audi' 'Renault' 'MG' 'Volvo' 'Skoda' 'Tata'\n",
      " 'Mahindra' 'Mini' 'Land Rover' 'Jeep' 'Chevrolet' 'Jaguar' 'Fiat'\n",
      " 'Aston Martin' 'Porsche' 'Nissan' 'Force' 'Mitsubishi' 'Lexus' 'Isuzu'\n",
      " 'Datsun' 'Ambassador' 'Rolls-Royce' 'ICML' 'Bajaj' 'Opel' 'Ashok'\n",
      " 'Bentley' 'Ssangyong' 'Maserati']\n",
      "**************************************************\n",
      "model ['City' 'Innova' 'VentoTest' 'Swift' 'Baleno' 'X3' '5 Series'\n",
      " 'maruti-suzuki-dzire' 'Ecosport' 'Alto-K10' 'Carnival' 'Swift-Dzire'\n",
      " 'Corolla' 'GLE COUPE' 'Xcent' 'Seltos' 'Ertiga' '3 Series GT' 'Endeavour'\n",
      " 'Innova Crysta' 'A3' 'KWID' 'Hector' 'Celerio' 'Vitara-Brezza'\n",
      " '2.8 Legender 4X2' 'S90' 'Venue' 'Creta' 'Alcazar' 'i20' 'E-Class' 'Polo'\n",
      " 'Verna' 'A4' 'Fortuner' 'C-Class' 'Kushaq' 'Ciaz' 'Safari' 'BRV' 'Duster'\n",
      " 'Wagon-R' 'Bolero Power Plus' 'Eon' 'Hector Plus' 'XUV500' 'GLS' 'i10'\n",
      " 'GLA Class' 'Carens' 'Ignis' 'Grand i10' 'Getz Prime' 'Ritz' 'Sonet'\n",
      " 'GLC Coupe' 'Scorpio-N' 'Cooper 3 DOOR' 'Nexon' 'Etios' 'CrossPolo'\n",
      " 'Vento' 'Range Rover Evoque' 'Indigo Ecs' 'Thar' 'Camry' 'Bolero' 'Brio'\n",
      " 'City ZX' 'WRV' 'Discovery Sport' 'Harrier' 'Zest' 'Eeco' 'Swift Dzire'\n",
      " 'Sx4' 'Kodiaq' 'Altroz' 'Grand i10 Nios' 'Alto-800' 'X1' 'X5' 'Rapid'\n",
      " 'TUV' 'Alto K10' 'M-Class' 'Glanza' 'Compass' 'Omni' 'Cruze' 'Amaze'\n",
      " 'Jazz' 'Scala' 'S-Presso' 'Tucson' 'Alto' 'Santa Fe' 'Dzire' 'ASTOR' 'Q7'\n",
      " 'Cooper 5 DOOR' 'Q3' 'Hexa' 'Creta Facelift' '7 Series' 'Bolt' 'XF'\n",
      " 'Tiago' 'Indigo Marina' 'Nano Genx' 'City Hybrid eHEV' 'Tiguan' 'G'\n",
      " '3 Series' 'Range Rover' 'Grand Vitara' 'XC 90' 'A6' 'Polo GTI' 'Virtus'\n",
      " 'A-Star' 'Cooper S' 'Etios Liva' 'CLA' 'XUV700' 'Alturas G4' 'Scorpio'\n",
      " 'New i20' 'Alto 800' 'Elite i20' 'Defender' 'Santro Xing' 'Linea'\n",
      " 'Vanquish' 'maruti-suzuki-brezza' 'A8 L' 'V40 Cross Country' 'Captur'\n",
      " 'Passat' 'KUV 100' 'Bolero Neo' 'Elantra' 'Macan' 'Terrano'\n",
      " 'Swift-Dzire-Tour' 'XL6' 'Xylo' 'S-Class' '6 Series GT' 'Figo' 'Ameo'\n",
      " 'Innova Hycross' 'Triber' 'Q5' 'Motors FM Gurkha' 'Jeep' '718' 'Punto'\n",
      " 'Corolla Altis' 'Pajero Sport' 'Manza' 'Cooper Convertible'\n",
      " 'Scorpio Classic' 'CRV' 'ES' 'GL-Class' 'Tigor' 'X7' 'Octavia' 'Wagon R'\n",
      " 'S-Cross' 'Gypsy' 'Renault Logan' 'Boxster' 'Indigo Cs' 'XC40' 'Lodgy'\n",
      " 'Nano' 'XC60' 'Z4' 'Civic' 'Urban Cruiser' 'Brezza' 'Punch' 'Cedia' 'GLC'\n",
      " 'Sonata Embera' 'Figo Aspire' 'Accord' '3 DOOR' 'MAX' 'G Class'\n",
      " 'Indica Vista' 'RediGO' 'CLS-Class' 'VELLFIRE' 'Superb' 'Zen-Estilo'\n",
      " 'Cooper' 'Estilo' 'X4' 'LX' 'Enjoy' 'Mobilio' 'Punto EVO'\n",
      " 'Bolero Neo Plus' 'Scorpio N' 'D-Max V-Cross' 'Fluidic Verna' 'G-Class'\n",
      " 'XUV 300' 'Optra' ' Wagon R' 'Cooper Countryman' 'GLE' 'GLC Class'\n",
      " 'Fiesta Classic' 'MUX' 'V-Class' 'Safari Storme' 'Indica Ev2' 'Celerio-X'\n",
      " 'Land Cruiser' 'Indica' 'MICRA PRIMO' 'Tavera' 'S-Cross1'\n",
      " 'S60 Cross Country' 'Slavia' 'Punch ' '1000' 'XJ' 'Fronx' 'Beat' 'Santro'\n",
      " 'S60' 'Cayenne' 'Range Rover Sport' 'Verito' 'WR-V' 'Laura' '800'\n",
      " 'Range Rover Velar' 'Jetta' 'Wagon-R-1-0' 'Freelander 2' 'Spark'\n",
      " 'Discovery' 'C Class' 'Micra' 'Kiger' 'Ambassador' 'Marazzo' 'i20 Active'\n",
      " 'Redi Go' '2 Series' 'Esteem' 'Outlander' 'Etios Cross' 'GLA' 'GLE Class'\n",
      " 'Accent' 'Marshal' 'Fabia' 'A5' 'Jimny' 'AMG GLE Coupe' 'Countryman'\n",
      " 'Sail U-VA' 'Fluence' 'NX' 'Fiesta' 'Pulse' 'Sonata' 'Tiago Nrg'\n",
      " '1 Series' 'S 80' 'Aura' '6 Series' 'Meridian' 'Kicks' 'Vitara Brezza'\n",
      " '3 Series Gran Limousine' 'PATROL' 'B Class' 'TUV 300' 'Sail' 'Yaris'\n",
      " 'Sumo Grande MK II' 'S80' 'Celerio X' 'EON' 'Motors FM Trax Cruiser'\n",
      " 'XUV300' 'Sunny' 'Sumo Gold' 'OptraSRV' 'Indica V2' 'X6' 'Magnite'\n",
      " 'KUV100 NXT' 'Gloster' 'Urban Cruiser Hyryder' 'Trailblazer' 'Quanto'\n",
      " 'Sumo Victa' 'i20 N Line' 'Xenon XT' 'Lancer' 'Land Cruiser Prado'\n",
      " 'Taigun' 'Zen Estilo' 'Cooper Clubman' 'Beetle' 'A-Class Limousine' 'XE'\n",
      " 'Venue N Line' 'CR-V' 'tata-punch' 'Cayenne Coupe' 'F-Pace' 'Grand Punto'\n",
      " 'GO' 'Phantom Series II' '5 Series Gt' 'Venture' 'Aspire' 'LS' 'Mustang'\n",
      " 'Tiguan All Space' 'Free Style' 'H5x' 'XC90' 'TUV 300-plus' 'New Santro'\n",
      " 'Wagon R 1.0' 'AMG C 43' 'New Elantra' 'Motors FM Force One Test'\n",
      " 'New-gen Swift' 'Punto Pure' 'Rhino Rx' 'New Accord' 'RX' 'Xcent Prime'\n",
      " 'E-20' 'RE60' 'New Duster' 'Ssangyong-Rexton' 'Grand i10 Prime'\n",
      " 'Wrangler' 'SLK-Class' 'SX4' 'Phantom Drop HeadCoupe' 'Nuvosport'\n",
      " 'Panamera' 'Wagon-R-Stingray' '5 DOOR' 'Micra Active' 'Cayman' 'AMG A35'\n",
      " 'Optra Magnum' 'M340i' 'GTI' 'Getz' 'X5 M' 'Baleno-RS' 'A Class' 'Exter'\n",
      " 'Invicto' 'Rexton' 'Sumo' 'Stingray' 'Teana' 'Corsa' 'Fronx '\n",
      " 'Accent Hatchback' 'SL-Class' 'Vista Tech' 'Captiva' 'GO Plus'\n",
      " 'A3 Cabriolet' 'Leyland Stile' 'Flying Spur' 'Curvv' 'Estima' 'Ikon'\n",
      " 'Avventura' 'Others' 'Ssangyong Rexton' 'A-class Limousine'\n",
      " '2.9 Sportback' 'CERATO' 'Elevate' 'Urvan' 'Hi-Lande Isuzu Hi-Lander'\n",
      " 'AMG' 'Urban Cross' 'Gran Turismo']\n",
      "**************************************************\n",
      "year [2001 2009 2010 2017 2019 2014 2020 2018 2021 2012 2007 2016 2015 2023\n",
      " 2011 2022 2013 2006 2005 2024 1998 2008 2004 1994 2002 2003 1997 2000\n",
      " 1990 1996 1999 1986]\n",
      "**************************************************\n",
      "age [23 15 14  7  5 10  4  6  3 12 17  8  9  1 13  2 11 18 19  0 26 16 20 30\n",
      " 22 21 27 24 34 28 25 38]\n",
      "**************************************************\n",
      "kmdriven ['98,000 km' '190000.0 km' '77,246 km' ... '243,000 km' '43,700 km'\n",
      " '83,228 km']\n",
      "**************************************************\n",
      "transmission ['Manual' 'Automatic']\n",
      "**************************************************\n",
      "owner ['second' 'first']\n",
      "**************************************************\n",
      "fueltype ['Petrol' 'Diesel' 'Hybrid/CNG']\n",
      "**************************************************\n",
      "posteddate ['Nov-24' 'Jul-24' 'Oct-24' 'Aug-24' 'Sep-24' 'May-24' 'Jun-24' 'Apr-24'\n",
      " 'Jan-24' 'Feb-24' 'Dec-23' 'Mar-24']\n",
      "**************************************************\n",
      "additioninfo ['Honda City v teck in mint condition, valid genuine car,'\n",
      " 'Toyota Innova 2.5 G (Diesel) 7 Seater, 2009, Diesel'\n",
      " 'Volkswagen Vento 2010-2013 Diesel Breeze, 2010, Diesel' ...\n",
      " 'Maruti Suzuki Alto 800 CNG LXI Optional, 2020, CNG & Hybrids'\n",
      " 'Maruti Suzuki Ritz VDi, 2013, Diesel'\n",
      " 'Hyundai New i20 1.2 Asta IVT, 2021, Petrol']\n",
      "**************************************************\n",
      "askprice ['₹ 1,95,000' '₹ 3,75,000' '₹ 1,84,999' ... '₹ 3,45,111' '₹ 3,35,999'\n",
      " '₹ 1,36,00,000']\n",
      "**************************************************\n"
     ]
    }
   ],
   "source": [
    "for column in df.columns:\n",
    "    print(column,df[column].unique())\n",
    "    print(\"*\"*50)\n",
    "    "
   ]
  },
  {
   "cell_type": "code",
   "execution_count": null,
   "id": "b22ff291",
   "metadata": {
    "papermill": {
     "duration": 0.003547,
     "end_time": "2025-09-16T07:05:43.577558",
     "exception": false,
     "start_time": "2025-09-16T07:05:43.574011",
     "status": "completed"
    },
    "tags": []
   },
   "outputs": [],
   "source": []
  }
 ],
 "metadata": {
  "kaggle": {
   "accelerator": "none",
   "dataSources": [
    {
     "datasetId": 8279665,
     "sourceId": 13073486,
     "sourceType": "datasetVersion"
    }
   ],
   "dockerImageVersionId": 31089,
   "isGpuEnabled": false,
   "isInternetEnabled": false,
   "language": "python",
   "sourceType": "notebook"
  },
  "kernelspec": {
   "display_name": "Python 3",
   "language": "python",
   "name": "python3"
  },
  "language_info": {
   "codemirror_mode": {
    "name": "ipython",
    "version": 3
   },
   "file_extension": ".py",
   "mimetype": "text/x-python",
   "name": "python",
   "nbconvert_exporter": "python",
   "pygments_lexer": "ipython3",
   "version": "3.11.13"
  },
  "papermill": {
   "default_parameters": {},
   "duration": 9.900336,
   "end_time": "2025-09-16T07:05:44.300662",
   "environment_variables": {},
   "exception": null,
   "input_path": "__notebook__.ipynb",
   "output_path": "__notebook__.ipynb",
   "parameters": {},
   "start_time": "2025-09-16T07:05:34.400326",
   "version": "2.6.0"
  }
 },
 "nbformat": 4,
 "nbformat_minor": 5
}
