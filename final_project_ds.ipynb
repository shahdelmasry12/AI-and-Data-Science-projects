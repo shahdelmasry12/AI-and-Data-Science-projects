{
  "cells": [
    {
      "cell_type": "markdown",
      "metadata": {
        "id": "view-in-github",
        "colab_type": "text"
      },
      "source": [
        "<a href=\"https://colab.research.google.com/github/shahdelmasry12/AI-and-Data-Science-projects/blob/main/final_project_ds.ipynb\" target=\"_parent\"><img src=\"https://colab.research.google.com/assets/colab-badge.svg\" alt=\"Open In Colab\"/></a>"
      ]
    },
    {
      "cell_type": "code",
      "execution_count": null,
      "id": "d10d3c60-cf59-458c-bd76-9b17d9175a83",
      "metadata": {
        "id": "d10d3c60-cf59-458c-bd76-9b17d9175a83"
      },
      "outputs": [],
      "source": [
        "import numpy as np\n",
        "import pandas as pd\n",
        "import matplotlib.pyplot as plt\n"
      ]
    },
    {
      "cell_type": "code",
      "execution_count": null,
      "id": "bce5fc87-6087-4f3e-91f5-cb8f467599cf",
      "metadata": {
        "id": "bce5fc87-6087-4f3e-91f5-cb8f467599cf"
      },
      "outputs": [],
      "source": [
        "df = pd.read_csv('Student_performance.csv')"
      ]
    },
    {
      "cell_type": "code",
      "execution_count": null,
      "id": "66f12bdd-8632-415d-aff3-fed60c16dc61",
      "metadata": {
        "id": "66f12bdd-8632-415d-aff3-fed60c16dc61"
      },
      "outputs": [],
      "source": [
        "df = df.drop(['race_ethnicity' , 'parental_level_of_education' , 'roll_no' ], axis = 1)"
      ]
    },
    {
      "cell_type": "code",
      "execution_count": null,
      "id": "ffa57ae1-ac36-4c8f-adb2-9c441a54f321",
      "metadata": {
        "id": "ffa57ae1-ac36-4c8f-adb2-9c441a54f321",
        "outputId": "9151a3f5-eb84-41a5-ba0d-42a6817c18ec"
      },
      "outputs": [
        {
          "data": {
            "text/html": [
              "<div>\n",
              "<style scoped>\n",
              "    .dataframe tbody tr th:only-of-type {\n",
              "        vertical-align: middle;\n",
              "    }\n",
              "\n",
              "    .dataframe tbody tr th {\n",
              "        vertical-align: top;\n",
              "    }\n",
              "\n",
              "    .dataframe thead th {\n",
              "        text-align: right;\n",
              "    }\n",
              "</style>\n",
              "<table border=\"1\" class=\"dataframe\">\n",
              "  <thead>\n",
              "    <tr style=\"text-align: right;\">\n",
              "      <th></th>\n",
              "      <th>gender</th>\n",
              "      <th>lunch</th>\n",
              "      <th>test_preparation_course</th>\n",
              "      <th>math_score</th>\n",
              "      <th>reading_score</th>\n",
              "      <th>writing_score</th>\n",
              "      <th>science_score</th>\n",
              "      <th>total_score</th>\n",
              "      <th>grade</th>\n",
              "    </tr>\n",
              "  </thead>\n",
              "  <tbody>\n",
              "    <tr>\n",
              "      <th>0</th>\n",
              "      <td>male</td>\n",
              "      <td>1.0</td>\n",
              "      <td>1.0</td>\n",
              "      <td>89</td>\n",
              "      <td>38.0</td>\n",
              "      <td>85.0</td>\n",
              "      <td>26.0</td>\n",
              "      <td>238.0</td>\n",
              "      <td>C</td>\n",
              "    </tr>\n",
              "    <tr>\n",
              "      <th>1</th>\n",
              "      <td>male</td>\n",
              "      <td>1.0</td>\n",
              "      <td>0.0</td>\n",
              "      <td>65</td>\n",
              "      <td>100.0</td>\n",
              "      <td>67.0</td>\n",
              "      <td>96.0</td>\n",
              "      <td>328.0</td>\n",
              "      <td>A</td>\n",
              "    </tr>\n",
              "    <tr>\n",
              "      <th>2</th>\n",
              "      <td>male</td>\n",
              "      <td>1.0</td>\n",
              "      <td>0.0</td>\n",
              "      <td>10</td>\n",
              "      <td>99.0</td>\n",
              "      <td>97.0</td>\n",
              "      <td>58.0</td>\n",
              "      <td>264.0</td>\n",
              "      <td>B</td>\n",
              "    </tr>\n",
              "    <tr>\n",
              "      <th>3</th>\n",
              "      <td>male</td>\n",
              "      <td>1.0</td>\n",
              "      <td>1.0</td>\n",
              "      <td>22</td>\n",
              "      <td>51.0</td>\n",
              "      <td>41.0</td>\n",
              "      <td>84.0</td>\n",
              "      <td>198.0</td>\n",
              "      <td>D</td>\n",
              "    </tr>\n",
              "    <tr>\n",
              "      <th>4</th>\n",
              "      <td>male</td>\n",
              "      <td>0.0</td>\n",
              "      <td>1.0</td>\n",
              "      <td>26</td>\n",
              "      <td>58.0</td>\n",
              "      <td>64.0</td>\n",
              "      <td>65.0</td>\n",
              "      <td>213.0</td>\n",
              "      <td>C</td>\n",
              "    </tr>\n",
              "  </tbody>\n",
              "</table>\n",
              "</div>"
            ],
            "text/plain": [
              "  gender  lunch  test_preparation_course math_score  reading_score  \\\n",
              "0   male    1.0                      1.0         89           38.0   \n",
              "1   male    1.0                      0.0         65          100.0   \n",
              "2   male    1.0                      0.0         10           99.0   \n",
              "3   male    1.0                      1.0         22           51.0   \n",
              "4   male    0.0                      1.0         26           58.0   \n",
              "\n",
              "   writing_score  science_score  total_score grade  \n",
              "0           85.0           26.0        238.0     C  \n",
              "1           67.0           96.0        328.0     A  \n",
              "2           97.0           58.0        264.0     B  \n",
              "3           41.0           84.0        198.0     D  \n",
              "4           64.0           65.0        213.0     C  "
            ]
          },
          "execution_count": 287,
          "metadata": {},
          "output_type": "execute_result"
        }
      ],
      "source": [
        "df.head()"
      ]
    },
    {
      "cell_type": "code",
      "execution_count": null,
      "id": "c31c2ae5-30ed-441b-b43d-f9bafeef4b31",
      "metadata": {
        "id": "c31c2ae5-30ed-441b-b43d-f9bafeef4b31"
      },
      "outputs": [],
      "source": []
    },
    {
      "cell_type": "code",
      "execution_count": null,
      "id": "5c782c1e-e5cf-4057-b491-8c4c570f0d96",
      "metadata": {
        "id": "5c782c1e-e5cf-4057-b491-8c4c570f0d96"
      },
      "outputs": [],
      "source": [
        "#### GENDER SECTION ####"
      ]
    },
    {
      "cell_type": "code",
      "execution_count": null,
      "id": "7f5b3311-8a04-4a35-b656-fc49d60424ba",
      "metadata": {
        "id": "7f5b3311-8a04-4a35-b656-fc49d60424ba",
        "outputId": "f488a1ba-a4e9-4c75-d0e9-6dd957fa5319"
      },
      "outputs": [
        {
          "data": {
            "text/plain": [
              "array(['male', nan, 'Boy', '\\\\tmale', 'female', 'Girl'], dtype=object)"
            ]
          },
          "execution_count": 289,
          "metadata": {},
          "output_type": "execute_result"
        }
      ],
      "source": [
        "genderUniqueValues = df['gender'].unique() # to check values in the column\n",
        "genderUniqueValues"
      ]
    },
    {
      "cell_type": "code",
      "execution_count": null,
      "id": "f3a399f3-714a-4976-976d-85eb3dd6683d",
      "metadata": {
        "id": "f3a399f3-714a-4976-976d-85eb3dd6683d"
      },
      "outputs": [],
      "source": [
        "firstHalfGender = df.iloc[0:5000 , :1] # to choose first 5000 rows"
      ]
    },
    {
      "cell_type": "code",
      "execution_count": null,
      "id": "4a1c952d-b5ec-4552-8bba-57ec388f330f",
      "metadata": {
        "id": "4a1c952d-b5ec-4552-8bba-57ec388f330f"
      },
      "outputs": [],
      "source": [
        "firstHalfGender['gender'] = firstHalfGender['gender'].replace({'Boy': 'male', '\\\\tmale': 'male' }) # replace trash values"
      ]
    },
    {
      "cell_type": "code",
      "execution_count": null,
      "id": "40b7289b-2d84-48e8-853b-f2a59f0f9580",
      "metadata": {
        "id": "40b7289b-2d84-48e8-853b-f2a59f0f9580"
      },
      "outputs": [],
      "source": [
        "tmp = firstHalfGender\n",
        "tmp[\"gender\"] = tmp[\"gender\"].fillna('male') #to fill nan values\n",
        "firstHalfGender = tmp # return to the variable"
      ]
    },
    {
      "cell_type": "code",
      "execution_count": null,
      "id": "020d4dbc-c9e6-4fc7-9da3-793b2d3aee52",
      "metadata": {
        "id": "020d4dbc-c9e6-4fc7-9da3-793b2d3aee52"
      },
      "outputs": [],
      "source": [
        "secondHalfGender = df.iloc[5000:10000 , :1] # to choose from 5000 to 10000"
      ]
    },
    {
      "cell_type": "code",
      "execution_count": null,
      "id": "1ea96d2f-08c3-4760-9c05-bb161363fa7f",
      "metadata": {
        "id": "1ea96d2f-08c3-4760-9c05-bb161363fa7f"
      },
      "outputs": [],
      "source": [
        "secondHalfGender['gender'] = secondHalfGender['gender'].replace({'Girl': 'female'}) # replace trash values"
      ]
    },
    {
      "cell_type": "code",
      "execution_count": null,
      "id": "a04f6d71-1a93-4a75-b861-306a6edf2f55",
      "metadata": {
        "id": "a04f6d71-1a93-4a75-b861-306a6edf2f55"
      },
      "outputs": [],
      "source": [
        "tmp = 0\n",
        "tmp = secondHalfGender\n",
        "tmp[\"gender\"] = tmp[\"gender\"].fillna('female') #to fill nan values\n",
        "secondHalfGender = tmp # return to the variable"
      ]
    },
    {
      "cell_type": "code",
      "execution_count": null,
      "id": "4eb8639c-bd88-4003-98cd-e1db12924c29",
      "metadata": {
        "id": "4eb8639c-bd88-4003-98cd-e1db12924c29"
      },
      "outputs": [],
      "source": [
        "frames = [firstHalfGender, secondHalfGender] # to concat the first and second gender rows\n",
        "finalGender = pd.concat(frames, ignore_index=True) # concat"
      ]
    },
    {
      "cell_type": "code",
      "execution_count": null,
      "id": "8b5a4428-fed9-4c72-88f7-571993474271",
      "metadata": {
        "id": "8b5a4428-fed9-4c72-88f7-571993474271"
      },
      "outputs": [],
      "source": [
        "df['gender'] = finalGender # to change gender to the final one in data frame"
      ]
    },
    {
      "cell_type": "code",
      "execution_count": null,
      "id": "86629c82-e19e-4dda-8429-7d19cbfa304d",
      "metadata": {
        "id": "86629c82-e19e-4dda-8429-7d19cbfa304d"
      },
      "outputs": [],
      "source": []
    },
    {
      "cell_type": "code",
      "execution_count": null,
      "id": "a89bbba9-85c3-456b-96f6-6e0f93faf9b8",
      "metadata": {
        "id": "a89bbba9-85c3-456b-96f6-6e0f93faf9b8"
      },
      "outputs": [],
      "source": []
    },
    {
      "cell_type": "code",
      "execution_count": null,
      "id": "364ef540-ad24-4e45-bddb-3add60a2482f",
      "metadata": {
        "id": "364ef540-ad24-4e45-bddb-3add60a2482f"
      },
      "outputs": [],
      "source": []
    },
    {
      "cell_type": "code",
      "execution_count": null,
      "id": "786d055a-06da-4378-adb0-e12f3dcfbfe0",
      "metadata": {
        "id": "786d055a-06da-4378-adb0-e12f3dcfbfe0"
      },
      "outputs": [],
      "source": [
        "#### LUNCH SECTION ####"
      ]
    },
    {
      "cell_type": "code",
      "execution_count": null,
      "id": "99ce2481-5635-47a4-a4ab-b1e9e211d04e",
      "metadata": {
        "id": "99ce2481-5635-47a4-a4ab-b1e9e211d04e",
        "outputId": "c642625b-b7d1-457e-da67-3dda5a798427"
      },
      "outputs": [
        {
          "data": {
            "text/plain": [
              "array([ 1.,  0., nan])"
            ]
          },
          "execution_count": 299,
          "metadata": {},
          "output_type": "execute_result"
        }
      ],
      "source": [
        "checkUnique = df['lunch'].unique() # to check values in the column\n",
        "checkUnique"
      ]
    },
    {
      "cell_type": "code",
      "execution_count": null,
      "id": "c5aac202-a4e1-43c9-9680-78235d003e16",
      "metadata": {
        "id": "c5aac202-a4e1-43c9-9680-78235d003e16",
        "outputId": "ad3bc69d-1ad3-4e53-e69f-5d32bbd5bb36"
      },
      "outputs": [
        {
          "data": {
            "text/plain": [
              "0    1.0\n",
              "Name: lunch, dtype: float64"
            ]
          },
          "execution_count": 300,
          "metadata": {},
          "output_type": "execute_result"
        }
      ],
      "source": [
        "modeForLunch= df['lunch'].mode() # to calc mode in lunch (mode = the most repeateted value)\n",
        "modeForLunch"
      ]
    },
    {
      "cell_type": "code",
      "execution_count": null,
      "id": "83ec0633-d154-417e-a600-ef4c230e30e2",
      "metadata": {
        "id": "83ec0633-d154-417e-a600-ef4c230e30e2"
      },
      "outputs": [],
      "source": [
        "tmp = df.iloc[:, 1:2]   # to take lunch column to work on it\n",
        "tmp.loc[:, \"lunch\"] = tmp[\"lunch\"].fillna(1.0)  # use .loc to fill NaN values\n",
        "df['lunch'] = tmp['lunch']  # assign the \"lunch\" column to df"
      ]
    },
    {
      "cell_type": "code",
      "execution_count": null,
      "id": "c9a751b3-5a69-4774-8f33-99662658a27c",
      "metadata": {
        "id": "c9a751b3-5a69-4774-8f33-99662658a27c"
      },
      "outputs": [],
      "source": [
        "df['lunch'] = df['lunch'].astype(int) # to change data type to int instead of float"
      ]
    },
    {
      "cell_type": "code",
      "execution_count": null,
      "id": "395e50a4-7bbc-4527-9685-48a2870f3b2a",
      "metadata": {
        "id": "395e50a4-7bbc-4527-9685-48a2870f3b2a",
        "outputId": "bf7a0383-9c1f-47c2-8347-8f17ef2f0032"
      },
      "outputs": [
        {
          "data": {
            "text/plain": [
              "array([1, 0])"
            ]
          },
          "execution_count": 303,
          "metadata": {},
          "output_type": "execute_result"
        }
      ],
      "source": [
        "checkUnique = df['lunch'].unique() # to check values in the column\n",
        "checkUnique"
      ]
    },
    {
      "cell_type": "code",
      "execution_count": null,
      "id": "882fde7e-d316-4812-b9d7-c53d5fd645cb",
      "metadata": {
        "id": "882fde7e-d316-4812-b9d7-c53d5fd645cb"
      },
      "outputs": [],
      "source": []
    },
    {
      "cell_type": "code",
      "execution_count": null,
      "id": "67e165f1-ef0e-495b-8e69-28e3996b0870",
      "metadata": {
        "id": "67e165f1-ef0e-495b-8e69-28e3996b0870"
      },
      "outputs": [],
      "source": []
    },
    {
      "cell_type": "code",
      "execution_count": null,
      "id": "3f487192-e96d-4551-b107-2344d548ab0c",
      "metadata": {
        "id": "3f487192-e96d-4551-b107-2344d548ab0c"
      },
      "outputs": [],
      "source": []
    },
    {
      "cell_type": "code",
      "execution_count": null,
      "id": "dcd3daa4-ed35-46ea-8c32-f6648e3eeb67",
      "metadata": {
        "id": "dcd3daa4-ed35-46ea-8c32-f6648e3eeb67"
      },
      "outputs": [],
      "source": [
        "#### test_preparation_course SECTION ####"
      ]
    },
    {
      "cell_type": "code",
      "execution_count": null,
      "id": "0e090bc4-aaee-4496-8469-ef084472c44d",
      "metadata": {
        "id": "0e090bc4-aaee-4496-8469-ef084472c44d",
        "outputId": "18c8674b-7ec0-4b6a-83a0-0b5660feab1f"
      },
      "outputs": [
        {
          "data": {
            "text/plain": [
              "array([ 1.,  0., nan])"
            ]
          },
          "execution_count": 305,
          "metadata": {},
          "output_type": "execute_result"
        }
      ],
      "source": [
        "checkUnique = df['test_preparation_course'].unique() # to check values in the column\n",
        "checkUnique"
      ]
    },
    {
      "cell_type": "code",
      "execution_count": null,
      "id": "777fca2c-7e1f-4bf3-a674-782476bd5764",
      "metadata": {
        "id": "777fca2c-7e1f-4bf3-a674-782476bd5764",
        "outputId": "c94dfc37-9167-412e-866c-bc1b62c48409"
      },
      "outputs": [
        {
          "data": {
            "text/plain": [
              "0    0.0\n",
              "Name: test_preparation_course, dtype: float64"
            ]
          },
          "execution_count": 306,
          "metadata": {},
          "output_type": "execute_result"
        }
      ],
      "source": [
        "modeForTest= df['test_preparation_course'].mode() # to calc mode in test_preparation_course (mode = the most repeateted value)\n",
        "modeForTest"
      ]
    },
    {
      "cell_type": "code",
      "execution_count": null,
      "id": "2f482fce-aa15-495e-9f90-12043cb7972c",
      "metadata": {
        "id": "2f482fce-aa15-495e-9f90-12043cb7972c"
      },
      "outputs": [],
      "source": [
        "tmp = df.iloc[:, 2:3]   # to take test_preparation_course column to work on it\n",
        "tmp.loc[:, \"test_preparation_course\"] = tmp[\"test_preparation_course\"].fillna(0.0)  # use .loc to fill NaN values\n",
        "df['test_preparation_course'] = tmp['test_preparation_course']  # assign the \"test_preparation_course\" column to df"
      ]
    },
    {
      "cell_type": "code",
      "execution_count": null,
      "id": "0cd01b24-1abe-4c20-87b5-98aacffc5377",
      "metadata": {
        "id": "0cd01b24-1abe-4c20-87b5-98aacffc5377"
      },
      "outputs": [],
      "source": [
        "df['test_preparation_course'] = df['test_preparation_course'].astype(int) # to change data type to int instead of float"
      ]
    },
    {
      "cell_type": "code",
      "execution_count": null,
      "id": "a9bd55b7-a777-4867-bca3-e650877e0614",
      "metadata": {
        "id": "a9bd55b7-a777-4867-bca3-e650877e0614",
        "outputId": "f3723524-f701-4ed1-ee7d-4df31fe2b678"
      },
      "outputs": [
        {
          "data": {
            "text/plain": [
              "array([1, 0])"
            ]
          },
          "execution_count": 309,
          "metadata": {},
          "output_type": "execute_result"
        }
      ],
      "source": [
        "checkUnique = df['test_preparation_course'].unique() # to check values in the column\n",
        "checkUnique"
      ]
    },
    {
      "cell_type": "code",
      "execution_count": null,
      "id": "caf9d3eb-9b5c-424e-b208-5b5b682f5658",
      "metadata": {
        "id": "caf9d3eb-9b5c-424e-b208-5b5b682f5658"
      },
      "outputs": [],
      "source": []
    },
    {
      "cell_type": "code",
      "execution_count": null,
      "id": "4cdd692a-cc75-4c27-98be-10f69414ce6d",
      "metadata": {
        "id": "4cdd692a-cc75-4c27-98be-10f69414ce6d"
      },
      "outputs": [],
      "source": []
    },
    {
      "cell_type": "code",
      "execution_count": null,
      "id": "c0c666bd-69de-4675-b2ea-8cb0359500aa",
      "metadata": {
        "id": "c0c666bd-69de-4675-b2ea-8cb0359500aa"
      },
      "outputs": [],
      "source": []
    },
    {
      "cell_type": "code",
      "execution_count": null,
      "id": "0c746a59-6c91-4ba6-90df-8530d2acad30",
      "metadata": {
        "id": "0c746a59-6c91-4ba6-90df-8530d2acad30"
      },
      "outputs": [],
      "source": [
        "#### math_score section ####"
      ]
    },
    {
      "cell_type": "code",
      "execution_count": null,
      "id": "4c3c5957-f928-493c-be76-b1f141a061a3",
      "metadata": {
        "id": "4c3c5957-f928-493c-be76-b1f141a061a3",
        "outputId": "7b948716-1398-4838-e028-1125fffc3664"
      },
      "outputs": [
        {
          "data": {
            "text/plain": [
              "array(['89', '65', '10', '22', '26', '40', '34', '25', '28', '71', '55',\n",
              "       nan, '29', '18', '72', '23', '35', '38', '41', '44', '39', '85',\n",
              "       '30', '100', '61', '47', '37', '49', '11', '32', '78', '36', '68',\n",
              "       '97', '64', '60', '69', '87', '83', '42', '52', '27', '46', '12',\n",
              "       '51', '75', '20', '81', '98', '24', '82', '19', '48', '74', '43',\n",
              "       '62', '21', '93', '66', '0', '13', '45', '57', '54', '70', '50',\n",
              "       '73', '88', '33', '76', '17', '16', '56', '80', '53', '14', '84',\n",
              "       '58', '9', '8', '79', '77', '99', '67', '59', '63', '86', '31',\n",
              "       '92', '94', '6', '91', '96', '95', '15', '90', '7', '4', '\\\\t41',\n",
              "       '5'], dtype=object)"
            ]
          },
          "execution_count": 311,
          "metadata": {},
          "output_type": "execute_result"
        }
      ],
      "source": [
        "checkUnique = df['math_score'].unique() # to check values in the column\n",
        "checkUnique"
      ]
    },
    {
      "cell_type": "code",
      "execution_count": null,
      "id": "29bb59ac-9f29-4954-9ae8-5148b8c8a76b",
      "metadata": {
        "id": "29bb59ac-9f29-4954-9ae8-5148b8c8a76b"
      },
      "outputs": [],
      "source": [
        "# \\\\t41  حذف القيم  الغير مرغوبة فيهاا مثل مسافات اوسلاش او مثل\n",
        "df[\"math_score\"] = df[\"math_score\"].str.strip()"
      ]
    },
    {
      "cell_type": "code",
      "execution_count": null,
      "id": "34382187-6269-4580-9582-fdf37ce73a15",
      "metadata": {
        "id": "34382187-6269-4580-9582-fdf37ce73a15"
      },
      "outputs": [],
      "source": [
        "#NaNتحويل القيم الي نوع ارقام والقيم الغير قابله للتحويل نحولها  الي\n",
        "df[\"math_score\"] = pd.to_numeric(df[\"math_score\"], errors=\"coerce\")"
      ]
    },
    {
      "cell_type": "code",
      "execution_count": null,
      "id": "b69048fe-9255-45de-988c-b6e1283248a7",
      "metadata": {
        "id": "b69048fe-9255-45de-988c-b6e1283248a7",
        "outputId": "8f647b89-df4a-47cf-db6d-87d755d40bea"
      },
      "outputs": [
        {
          "name": "stderr",
          "output_type": "stream",
          "text": [
            "C:\\Users\\mohab\\AppData\\Local\\Temp\\ipykernel_2320\\2758084934.py:6: FutureWarning: Downcasting object dtype arrays on .fillna, .ffill, .bfill is deprecated and will change in a future version. Call result.infer_objects(copy=False) instead. To opt-in to the future behavior, set `pd.set_option('future.no_silent_downcasting', True)`\n",
            "  df.loc[: , \"math_score\"] = df[\"math_score\"].fillna(median_value)\n"
          ]
        },
        {
          "data": {
            "text/html": [
              "<div>\n",
              "<style scoped>\n",
              "    .dataframe tbody tr th:only-of-type {\n",
              "        vertical-align: middle;\n",
              "    }\n",
              "\n",
              "    .dataframe tbody tr th {\n",
              "        vertical-align: top;\n",
              "    }\n",
              "\n",
              "    .dataframe thead th {\n",
              "        text-align: right;\n",
              "    }\n",
              "</style>\n",
              "<table border=\"1\" class=\"dataframe\">\n",
              "  <thead>\n",
              "    <tr style=\"text-align: right;\">\n",
              "      <th></th>\n",
              "      <th>gender</th>\n",
              "      <th>lunch</th>\n",
              "      <th>test_preparation_course</th>\n",
              "      <th>math_score</th>\n",
              "      <th>reading_score</th>\n",
              "      <th>writing_score</th>\n",
              "      <th>science_score</th>\n",
              "      <th>total_score</th>\n",
              "      <th>grade</th>\n",
              "    </tr>\n",
              "  </thead>\n",
              "  <tbody>\n",
              "    <tr>\n",
              "      <th>0</th>\n",
              "      <td>male</td>\n",
              "      <td>1</td>\n",
              "      <td>1</td>\n",
              "      <td>89.0</td>\n",
              "      <td>38.0</td>\n",
              "      <td>85.0</td>\n",
              "      <td>26.0</td>\n",
              "      <td>238.0</td>\n",
              "      <td>C</td>\n",
              "    </tr>\n",
              "    <tr>\n",
              "      <th>1</th>\n",
              "      <td>male</td>\n",
              "      <td>1</td>\n",
              "      <td>0</td>\n",
              "      <td>65.0</td>\n",
              "      <td>100.0</td>\n",
              "      <td>67.0</td>\n",
              "      <td>96.0</td>\n",
              "      <td>328.0</td>\n",
              "      <td>A</td>\n",
              "    </tr>\n",
              "    <tr>\n",
              "      <th>2</th>\n",
              "      <td>male</td>\n",
              "      <td>1</td>\n",
              "      <td>0</td>\n",
              "      <td>10.0</td>\n",
              "      <td>99.0</td>\n",
              "      <td>97.0</td>\n",
              "      <td>58.0</td>\n",
              "      <td>264.0</td>\n",
              "      <td>B</td>\n",
              "    </tr>\n",
              "    <tr>\n",
              "      <th>3</th>\n",
              "      <td>male</td>\n",
              "      <td>1</td>\n",
              "      <td>1</td>\n",
              "      <td>22.0</td>\n",
              "      <td>51.0</td>\n",
              "      <td>41.0</td>\n",
              "      <td>84.0</td>\n",
              "      <td>198.0</td>\n",
              "      <td>D</td>\n",
              "    </tr>\n",
              "    <tr>\n",
              "      <th>4</th>\n",
              "      <td>male</td>\n",
              "      <td>0</td>\n",
              "      <td>1</td>\n",
              "      <td>26.0</td>\n",
              "      <td>58.0</td>\n",
              "      <td>64.0</td>\n",
              "      <td>65.0</td>\n",
              "      <td>213.0</td>\n",
              "      <td>C</td>\n",
              "    </tr>\n",
              "  </tbody>\n",
              "</table>\n",
              "</div>"
            ],
            "text/plain": [
              "  gender  lunch  test_preparation_course math_score  reading_score  \\\n",
              "0   male      1                        1       89.0           38.0   \n",
              "1   male      1                        0       65.0          100.0   \n",
              "2   male      1                        0       10.0           99.0   \n",
              "3   male      1                        1       22.0           51.0   \n",
              "4   male      0                        1       26.0           58.0   \n",
              "\n",
              "   writing_score  science_score  total_score grade  \n",
              "0           85.0           26.0        238.0     C  \n",
              "1           67.0           96.0        328.0     A  \n",
              "2           97.0           58.0        264.0     B  \n",
              "3           41.0           84.0        198.0     D  \n",
              "4           64.0           65.0        213.0     C  "
            ]
          },
          "execution_count": 314,
          "metadata": {},
          "output_type": "execute_result"
        }
      ],
      "source": [
        "#  NaNنبدل بدل 0 ب\n",
        "df[\"math_score\"] = df[\"math_score\"].replace(0, pd.NA)\n",
        "# نجيب الوسيط\n",
        "median_value = df[\"math_score\"].median()\n",
        "#نبدل القيم الفارغه بالوسيط\n",
        "df.loc[: , \"math_score\"] = df[\"math_score\"].fillna(median_value)\n",
        "\n",
        "df.head()\n"
      ]
    },
    {
      "cell_type": "code",
      "execution_count": null,
      "id": "9c232596-a276-4f15-9bb9-e4f06da1e9d0",
      "metadata": {
        "id": "9c232596-a276-4f15-9bb9-e4f06da1e9d0",
        "outputId": "cafd8e55-ddf3-49eb-eedd-c4db689ad388"
      },
      "outputs": [
        {
          "data": {
            "text/plain": [
              "array([89.0, 65.0, 10.0, 22.0, 26.0, 40.0, 34.0, 25.0, 28.0, 71.0, 55.0,\n",
              "       58.0, 29.0, 18.0, 72.0, 23.0, 35.0, 38.0, 41.0, 44.0, 39.0, 85.0,\n",
              "       30.0, 100.0, 61.0, 47.0, 37.0, 49.0, 11.0, 32.0, 78.0, 36.0, 68.0,\n",
              "       97.0, 64.0, 60.0, 69.0, 87.0, 83.0, 42.0, 52.0, 27.0, 46.0, 12.0,\n",
              "       51.0, 75.0, 20.0, 81.0, 98.0, 24.0, 82.0, 19.0, 48.0, 74.0, 43.0,\n",
              "       62.0, 21.0, 93.0, 66.0, 13.0, 45.0, 57.0, 54.0, 70.0, 50.0, 73.0,\n",
              "       88.0, 33.0, 76.0, 17.0, 16.0, 56.0, 80.0, 53.0, 14.0, 84.0, 9.0,\n",
              "       8.0, 79.0, 77.0, 99.0, 67.0, 59.0, 63.0, 86.0, 31.0, 92.0, 94.0,\n",
              "       6.0, 91.0, 96.0, 95.0, 15.0, 90.0, 7.0, 4.0, 5.0], dtype=object)"
            ]
          },
          "execution_count": 315,
          "metadata": {},
          "output_type": "execute_result"
        }
      ],
      "source": [
        "checkUnique = df['math_score'].unique() # to check values in the column\n",
        "checkUnique"
      ]
    },
    {
      "cell_type": "code",
      "execution_count": null,
      "id": "8d2565e8-e351-450a-b8c7-8114107e1b5b",
      "metadata": {
        "id": "8d2565e8-e351-450a-b8c7-8114107e1b5b"
      },
      "outputs": [],
      "source": []
    },
    {
      "cell_type": "code",
      "execution_count": null,
      "id": "0bef80c1-d00f-4c04-b786-9f3f5717ab0e",
      "metadata": {
        "id": "0bef80c1-d00f-4c04-b786-9f3f5717ab0e"
      },
      "outputs": [],
      "source": []
    },
    {
      "cell_type": "code",
      "execution_count": null,
      "id": "a83e788a-b835-4967-833a-7f315f8f6d25",
      "metadata": {
        "id": "a83e788a-b835-4967-833a-7f315f8f6d25"
      },
      "outputs": [],
      "source": []
    },
    {
      "cell_type": "code",
      "execution_count": null,
      "id": "1893ad0f-5f91-4936-872d-b5317a3d3d2b",
      "metadata": {
        "id": "1893ad0f-5f91-4936-872d-b5317a3d3d2b"
      },
      "outputs": [],
      "source": [
        "#### reading_score section ####"
      ]
    },
    {
      "cell_type": "code",
      "execution_count": null,
      "id": "f63b04ad-4ac2-4fc8-9832-96b73648fc51",
      "metadata": {
        "id": "f63b04ad-4ac2-4fc8-9832-96b73648fc51",
        "outputId": "3420c473-c669-468a-f7b3-e12b64c78930"
      },
      "outputs": [
        {
          "data": {
            "text/plain": [
              "array([ 38., 100.,  99.,  51.,  58.,  49.,  48.,  80.,  79.,  22.,  64.,\n",
              "        53.,  nan,  70.,  97.,  96.,  82.,  76.,  73.,  68.,  71.,  63.,\n",
              "        57.,  54.,  89.,  69.,  67.,  77.,  66.,  92.,  81.,  43.,  56.,\n",
              "        90.,  98.,  55.,  91.,  83.,  86.,  88.,  40.,  62.,  30.,  60.,\n",
              "        65.,  85.,  37.,  78.,  84.,  74.,  95.,  47.,  59.,  44.,  72.,\n",
              "        17.,  34.,  87.,  93.,  41.,  36.,  75.,  50.,  52.,  46.,  45.,\n",
              "        39.,  94.,  61.,  35.,  33.,  31.,  26.,  42.,  24.,  21.,  25.,\n",
              "        23.,  27.,  20.,  32.,  19.,  28.,  18.,  29.])"
            ]
          },
          "execution_count": 317,
          "metadata": {},
          "output_type": "execute_result"
        }
      ],
      "source": [
        "checkUnique = df['reading_score'].unique() # to check values in the column\n",
        "checkUnique"
      ]
    },
    {
      "cell_type": "code",
      "execution_count": null,
      "id": "9642c409-c14f-4fba-a98a-1af66b41608c",
      "metadata": {
        "id": "9642c409-c14f-4fba-a98a-1af66b41608c",
        "outputId": "91936bc9-5b1c-44f1-f7b1-34820cee0943"
      },
      "outputs": [
        {
          "data": {
            "text/html": [
              "<div>\n",
              "<style scoped>\n",
              "    .dataframe tbody tr th:only-of-type {\n",
              "        vertical-align: middle;\n",
              "    }\n",
              "\n",
              "    .dataframe tbody tr th {\n",
              "        vertical-align: top;\n",
              "    }\n",
              "\n",
              "    .dataframe thead th {\n",
              "        text-align: right;\n",
              "    }\n",
              "</style>\n",
              "<table border=\"1\" class=\"dataframe\">\n",
              "  <thead>\n",
              "    <tr style=\"text-align: right;\">\n",
              "      <th></th>\n",
              "      <th>gender</th>\n",
              "      <th>lunch</th>\n",
              "      <th>test_preparation_course</th>\n",
              "      <th>math_score</th>\n",
              "      <th>reading_score</th>\n",
              "      <th>writing_score</th>\n",
              "      <th>science_score</th>\n",
              "      <th>total_score</th>\n",
              "      <th>grade</th>\n",
              "    </tr>\n",
              "  </thead>\n",
              "  <tbody>\n",
              "    <tr>\n",
              "      <th>0</th>\n",
              "      <td>male</td>\n",
              "      <td>1</td>\n",
              "      <td>1</td>\n",
              "      <td>89.0</td>\n",
              "      <td>38.0</td>\n",
              "      <td>85.0</td>\n",
              "      <td>26.0</td>\n",
              "      <td>238.0</td>\n",
              "      <td>C</td>\n",
              "    </tr>\n",
              "    <tr>\n",
              "      <th>1</th>\n",
              "      <td>male</td>\n",
              "      <td>1</td>\n",
              "      <td>0</td>\n",
              "      <td>65.0</td>\n",
              "      <td>100.0</td>\n",
              "      <td>67.0</td>\n",
              "      <td>96.0</td>\n",
              "      <td>328.0</td>\n",
              "      <td>A</td>\n",
              "    </tr>\n",
              "    <tr>\n",
              "      <th>2</th>\n",
              "      <td>male</td>\n",
              "      <td>1</td>\n",
              "      <td>0</td>\n",
              "      <td>10.0</td>\n",
              "      <td>99.0</td>\n",
              "      <td>97.0</td>\n",
              "      <td>58.0</td>\n",
              "      <td>264.0</td>\n",
              "      <td>B</td>\n",
              "    </tr>\n",
              "    <tr>\n",
              "      <th>3</th>\n",
              "      <td>male</td>\n",
              "      <td>1</td>\n",
              "      <td>1</td>\n",
              "      <td>22.0</td>\n",
              "      <td>51.0</td>\n",
              "      <td>41.0</td>\n",
              "      <td>84.0</td>\n",
              "      <td>198.0</td>\n",
              "      <td>D</td>\n",
              "    </tr>\n",
              "    <tr>\n",
              "      <th>4</th>\n",
              "      <td>male</td>\n",
              "      <td>0</td>\n",
              "      <td>1</td>\n",
              "      <td>26.0</td>\n",
              "      <td>58.0</td>\n",
              "      <td>64.0</td>\n",
              "      <td>65.0</td>\n",
              "      <td>213.0</td>\n",
              "      <td>C</td>\n",
              "    </tr>\n",
              "  </tbody>\n",
              "</table>\n",
              "</div>"
            ],
            "text/plain": [
              "  gender  lunch  test_preparation_course math_score  reading_score  \\\n",
              "0   male      1                        1       89.0           38.0   \n",
              "1   male      1                        0       65.0          100.0   \n",
              "2   male      1                        0       10.0           99.0   \n",
              "3   male      1                        1       22.0           51.0   \n",
              "4   male      0                        1       26.0           58.0   \n",
              "\n",
              "   writing_score  science_score  total_score grade  \n",
              "0           85.0           26.0        238.0     C  \n",
              "1           67.0           96.0        328.0     A  \n",
              "2           97.0           58.0        264.0     B  \n",
              "3           41.0           84.0        198.0     D  \n",
              "4           64.0           65.0        213.0     C  "
            ]
          },
          "execution_count": 318,
          "metadata": {},
          "output_type": "execute_result"
        }
      ],
      "source": [
        "#  NaNنبدل بدل 0 ب\n",
        "df[\"reading_score\"] = df[\"reading_score\"].replace(0, pd.NA)\n",
        "#الوسيط\n",
        "median_value = df[\"reading_score\"].median()\n",
        "#نبدل القيم الفارغه بالوسيط\n",
        "df.loc[: , \"reading_score\"] = df[\"reading_score\"].fillna(median_value)\n",
        "\n",
        "df.head()"
      ]
    },
    {
      "cell_type": "code",
      "execution_count": null,
      "id": "633b0101-e7d2-41c3-8a46-ff39a4a4ed9c",
      "metadata": {
        "id": "633b0101-e7d2-41c3-8a46-ff39a4a4ed9c",
        "outputId": "1544f500-9e79-4b57-fbda-f9d88f2a0a8e"
      },
      "outputs": [
        {
          "data": {
            "text/plain": [
              "array([ 38., 100.,  99.,  51.,  58.,  49.,  48.,  80.,  79.,  22.,  64.,\n",
              "        53.,  71.,  70.,  97.,  96.,  82.,  76.,  73.,  68.,  63.,  57.,\n",
              "        54.,  89.,  69.,  67.,  77.,  66.,  92.,  81.,  43.,  56.,  90.,\n",
              "        98.,  55.,  91.,  83.,  86.,  88.,  40.,  62.,  30.,  60.,  65.,\n",
              "        85.,  37.,  78.,  84.,  74.,  95.,  47.,  59.,  44.,  72.,  17.,\n",
              "        34.,  87.,  93.,  41.,  36.,  75.,  50.,  52.,  46.,  45.,  39.,\n",
              "        94.,  61.,  35.,  33.,  31.,  26.,  42.,  24.,  21.,  25.,  23.,\n",
              "        27.,  20.,  32.,  19.,  28.,  18.,  29.])"
            ]
          },
          "execution_count": 319,
          "metadata": {},
          "output_type": "execute_result"
        }
      ],
      "source": [
        "checkUnique = df['reading_score'].unique() # to check values in the column\n",
        "checkUnique"
      ]
    },
    {
      "cell_type": "code",
      "execution_count": null,
      "id": "538dcdb0-b463-4249-829d-b14e0caba3de",
      "metadata": {
        "id": "538dcdb0-b463-4249-829d-b14e0caba3de"
      },
      "outputs": [],
      "source": []
    },
    {
      "cell_type": "code",
      "execution_count": null,
      "id": "f099285a-927c-4629-815f-d4cd25823e06",
      "metadata": {
        "id": "f099285a-927c-4629-815f-d4cd25823e06"
      },
      "outputs": [],
      "source": []
    },
    {
      "cell_type": "code",
      "execution_count": null,
      "id": "c5186154-ee92-44b5-8f90-58633a161980",
      "metadata": {
        "id": "c5186154-ee92-44b5-8f90-58633a161980"
      },
      "outputs": [],
      "source": []
    },
    {
      "cell_type": "code",
      "execution_count": null,
      "id": "2a117001-d38c-4a30-8194-e5fb9b850a0b",
      "metadata": {
        "id": "2a117001-d38c-4a30-8194-e5fb9b850a0b"
      },
      "outputs": [],
      "source": [
        "#### writing_score section ####"
      ]
    },
    {
      "cell_type": "code",
      "execution_count": null,
      "id": "bad6c488-1f00-4985-b7cd-c2fbb2966fb8",
      "metadata": {
        "id": "bad6c488-1f00-4985-b7cd-c2fbb2966fb8",
        "outputId": "8923eada-05ce-4272-e72a-81cf9230070a"
      },
      "outputs": [
        {
          "data": {
            "text/plain": [
              "array([ 85.,  67.,  97.,  41.,  64.,  69.,  84.,  34., 100.,  87.,  54.,\n",
              "        76.,  nan,  52.,  82.,  78.,  50.,  62.,  49.,  43.,  63.,  74.,\n",
              "        81.,  98.,  57.,  61.,  60.,  86.,  55.,  95.,  33.,  53.,  48.,\n",
              "        59.,  73.,  30.,  77.,  80.,  32.,  56.,  68.,  65.,  25.,  44.,\n",
              "        26.,  58.,  45.,  83.,  18.,  23.,  96.,  71.,  93.,  37.,  40.,\n",
              "        72.,  29.,  51.,  27.,  92.,  79.,  75.,  88.,  31.,  99.,  47.,\n",
              "        94.,  66.,  36.,  70.,  46.,  89.,  42.,  10.,  91.,  90.,  16.,\n",
              "        38.,  28.,  39.,  35.,  15.,  24.,  20.,  11.,  12.,  22.,  17.,\n",
              "        19.,  13.,  21.,  14.])"
            ]
          },
          "execution_count": 321,
          "metadata": {},
          "output_type": "execute_result"
        }
      ],
      "source": [
        "checkUnique = df['writing_score'].unique() # to check values in the column\n",
        "checkUnique"
      ]
    },
    {
      "cell_type": "code",
      "execution_count": null,
      "id": "fedb1ae8-7cc4-449b-b2e9-18ee13289d37",
      "metadata": {
        "id": "fedb1ae8-7cc4-449b-b2e9-18ee13289d37",
        "outputId": "b54b97f5-3051-43e3-e771-de18ce908c1d"
      },
      "outputs": [
        {
          "data": {
            "text/html": [
              "<div>\n",
              "<style scoped>\n",
              "    .dataframe tbody tr th:only-of-type {\n",
              "        vertical-align: middle;\n",
              "    }\n",
              "\n",
              "    .dataframe tbody tr th {\n",
              "        vertical-align: top;\n",
              "    }\n",
              "\n",
              "    .dataframe thead th {\n",
              "        text-align: right;\n",
              "    }\n",
              "</style>\n",
              "<table border=\"1\" class=\"dataframe\">\n",
              "  <thead>\n",
              "    <tr style=\"text-align: right;\">\n",
              "      <th></th>\n",
              "      <th>gender</th>\n",
              "      <th>lunch</th>\n",
              "      <th>test_preparation_course</th>\n",
              "      <th>math_score</th>\n",
              "      <th>reading_score</th>\n",
              "      <th>writing_score</th>\n",
              "      <th>science_score</th>\n",
              "      <th>total_score</th>\n",
              "      <th>grade</th>\n",
              "    </tr>\n",
              "  </thead>\n",
              "  <tbody>\n",
              "    <tr>\n",
              "      <th>0</th>\n",
              "      <td>male</td>\n",
              "      <td>1</td>\n",
              "      <td>1</td>\n",
              "      <td>89.0</td>\n",
              "      <td>38.0</td>\n",
              "      <td>85.0</td>\n",
              "      <td>26.0</td>\n",
              "      <td>238.0</td>\n",
              "      <td>C</td>\n",
              "    </tr>\n",
              "    <tr>\n",
              "      <th>1</th>\n",
              "      <td>male</td>\n",
              "      <td>1</td>\n",
              "      <td>0</td>\n",
              "      <td>65.0</td>\n",
              "      <td>100.0</td>\n",
              "      <td>67.0</td>\n",
              "      <td>96.0</td>\n",
              "      <td>328.0</td>\n",
              "      <td>A</td>\n",
              "    </tr>\n",
              "    <tr>\n",
              "      <th>2</th>\n",
              "      <td>male</td>\n",
              "      <td>1</td>\n",
              "      <td>0</td>\n",
              "      <td>10.0</td>\n",
              "      <td>99.0</td>\n",
              "      <td>97.0</td>\n",
              "      <td>58.0</td>\n",
              "      <td>264.0</td>\n",
              "      <td>B</td>\n",
              "    </tr>\n",
              "    <tr>\n",
              "      <th>3</th>\n",
              "      <td>male</td>\n",
              "      <td>1</td>\n",
              "      <td>1</td>\n",
              "      <td>22.0</td>\n",
              "      <td>51.0</td>\n",
              "      <td>41.0</td>\n",
              "      <td>84.0</td>\n",
              "      <td>198.0</td>\n",
              "      <td>D</td>\n",
              "    </tr>\n",
              "    <tr>\n",
              "      <th>4</th>\n",
              "      <td>male</td>\n",
              "      <td>0</td>\n",
              "      <td>1</td>\n",
              "      <td>26.0</td>\n",
              "      <td>58.0</td>\n",
              "      <td>64.0</td>\n",
              "      <td>65.0</td>\n",
              "      <td>213.0</td>\n",
              "      <td>C</td>\n",
              "    </tr>\n",
              "  </tbody>\n",
              "</table>\n",
              "</div>"
            ],
            "text/plain": [
              "  gender  lunch  test_preparation_course math_score  reading_score  \\\n",
              "0   male      1                        1       89.0           38.0   \n",
              "1   male      1                        0       65.0          100.0   \n",
              "2   male      1                        0       10.0           99.0   \n",
              "3   male      1                        1       22.0           51.0   \n",
              "4   male      0                        1       26.0           58.0   \n",
              "\n",
              "   writing_score  science_score  total_score grade  \n",
              "0           85.0           26.0        238.0     C  \n",
              "1           67.0           96.0        328.0     A  \n",
              "2           97.0           58.0        264.0     B  \n",
              "3           41.0           84.0        198.0     D  \n",
              "4           64.0           65.0        213.0     C  "
            ]
          },
          "execution_count": 322,
          "metadata": {},
          "output_type": "execute_result"
        }
      ],
      "source": [
        "#  NaNنبدل بدل 0 ب\n",
        "df[\"writing_score\"] = df[\"writing_score\"].replace(0, pd.NA)\n",
        "\n",
        "median_value = df[\"writing_score\"].median()# get the median\n",
        "#نبدل القيم الفارغه بالوسيط\n",
        "df.loc[: , \"writing_score\"] = df[\"writing_score\"].fillna(median_value)\n",
        "\n",
        "df.head()"
      ]
    },
    {
      "cell_type": "code",
      "execution_count": null,
      "id": "8bb5dbe9-82a8-4f94-9515-d9bf2055fe05",
      "metadata": {
        "id": "8bb5dbe9-82a8-4f94-9515-d9bf2055fe05",
        "outputId": "bcdbf324-bab7-4cb5-91d5-5f00f25d3492"
      },
      "outputs": [
        {
          "data": {
            "text/plain": [
              "array([ 85. ,  67. ,  97. ,  41. ,  64. ,  69. ,  84. ,  34. , 100. ,\n",
              "        87. ,  54. ,  76. ,  72.5,  52. ,  82. ,  78. ,  50. ,  62. ,\n",
              "        49. ,  43. ,  63. ,  74. ,  81. ,  98. ,  57. ,  61. ,  60. ,\n",
              "        86. ,  55. ,  95. ,  33. ,  53. ,  48. ,  59. ,  73. ,  30. ,\n",
              "        77. ,  80. ,  32. ,  56. ,  68. ,  65. ,  25. ,  44. ,  26. ,\n",
              "        58. ,  45. ,  83. ,  18. ,  23. ,  96. ,  71. ,  93. ,  37. ,\n",
              "        40. ,  72. ,  29. ,  51. ,  27. ,  92. ,  79. ,  75. ,  88. ,\n",
              "        31. ,  99. ,  47. ,  94. ,  66. ,  36. ,  70. ,  46. ,  89. ,\n",
              "        42. ,  10. ,  91. ,  90. ,  16. ,  38. ,  28. ,  39. ,  35. ,\n",
              "        15. ,  24. ,  20. ,  11. ,  12. ,  22. ,  17. ,  19. ,  13. ,\n",
              "        21. ,  14. ])"
            ]
          },
          "execution_count": 323,
          "metadata": {},
          "output_type": "execute_result"
        }
      ],
      "source": [
        "checkUnique = df['writing_score'].unique() # to check values in the column\n",
        "checkUnique"
      ]
    },
    {
      "cell_type": "code",
      "execution_count": null,
      "id": "0c2e3bc0-8c29-478b-bc45-fc4382f18e85",
      "metadata": {
        "id": "0c2e3bc0-8c29-478b-bc45-fc4382f18e85"
      },
      "outputs": [],
      "source": []
    },
    {
      "cell_type": "code",
      "execution_count": null,
      "id": "64643427-71ec-413d-996e-c98da69754d5",
      "metadata": {
        "id": "64643427-71ec-413d-996e-c98da69754d5"
      },
      "outputs": [],
      "source": []
    },
    {
      "cell_type": "code",
      "execution_count": null,
      "id": "2c8398f3-6e70-4a53-b1a2-4825576a532c",
      "metadata": {
        "id": "2c8398f3-6e70-4a53-b1a2-4825576a532c"
      },
      "outputs": [],
      "source": []
    },
    {
      "cell_type": "code",
      "execution_count": null,
      "id": "0af6b8e4-453f-4c8b-8eac-6c19cae4c6bc",
      "metadata": {
        "id": "0af6b8e4-453f-4c8b-8eac-6c19cae4c6bc"
      },
      "outputs": [],
      "source": [
        "#### science_score section ####"
      ]
    },
    {
      "cell_type": "code",
      "execution_count": null,
      "id": "377863ef-bf44-41bd-9137-777fe908f34a",
      "metadata": {
        "id": "377863ef-bf44-41bd-9137-777fe908f34a",
        "outputId": "568eba1e-8cab-4048-a777-4b47e584b14c"
      },
      "outputs": [
        {
          "data": {
            "text/plain": [
              "array([ 26.,  96.,  58.,  84.,  65.,  48.,  73.,  17.,  76.,  39.,  60.,\n",
              "        55.,  91.,  45.,  nan,  54.,  75.,  47.,  78.,  57.,   9.,  95.,\n",
              "        44.,  46.,  82.,  81.,  31.,  70.,  71.,  93.,  99.,  66.,  62.,\n",
              "        50.,  67.,  94.,  28.,  38.,  69.,  63.,  61.,  79.,  72., 100.,\n",
              "        51.,  74.,  52.,  56.,  33.,  36.,  90.,  53.,  88.,  59.,  27.,\n",
              "        23.,  15.,  10.,  42.,  77.,  83.,  80.,  49.,  40.,  43.,  64.,\n",
              "        97.,  86.,  25.,  41.,  34.,  89.,  32.,  87.,  98.,  92.,  85.,\n",
              "        35.,  68.,  30.,  29.,  13.,  37.,  11.,  12.,  18.,  22.,  14.,\n",
              "        21.,  24.,  19.,  20.,  16.])"
            ]
          },
          "execution_count": 325,
          "metadata": {},
          "output_type": "execute_result"
        }
      ],
      "source": [
        "checkUnique = df['science_score'].unique() # to check values in the column\n",
        "checkUnique"
      ]
    },
    {
      "cell_type": "code",
      "execution_count": null,
      "id": "3d80f4d5-80f2-4923-95d7-101af58cb370",
      "metadata": {
        "id": "3d80f4d5-80f2-4923-95d7-101af58cb370",
        "outputId": "a02ad934-5a91-4205-ca6d-99f5040caa2a"
      },
      "outputs": [
        {
          "data": {
            "text/html": [
              "<div>\n",
              "<style scoped>\n",
              "    .dataframe tbody tr th:only-of-type {\n",
              "        vertical-align: middle;\n",
              "    }\n",
              "\n",
              "    .dataframe tbody tr th {\n",
              "        vertical-align: top;\n",
              "    }\n",
              "\n",
              "    .dataframe thead th {\n",
              "        text-align: right;\n",
              "    }\n",
              "</style>\n",
              "<table border=\"1\" class=\"dataframe\">\n",
              "  <thead>\n",
              "    <tr style=\"text-align: right;\">\n",
              "      <th></th>\n",
              "      <th>gender</th>\n",
              "      <th>lunch</th>\n",
              "      <th>test_preparation_course</th>\n",
              "      <th>math_score</th>\n",
              "      <th>reading_score</th>\n",
              "      <th>writing_score</th>\n",
              "      <th>science_score</th>\n",
              "      <th>total_score</th>\n",
              "      <th>grade</th>\n",
              "    </tr>\n",
              "  </thead>\n",
              "  <tbody>\n",
              "    <tr>\n",
              "      <th>0</th>\n",
              "      <td>male</td>\n",
              "      <td>1</td>\n",
              "      <td>1</td>\n",
              "      <td>89.0</td>\n",
              "      <td>38.0</td>\n",
              "      <td>85.0</td>\n",
              "      <td>26.0</td>\n",
              "      <td>238.0</td>\n",
              "      <td>C</td>\n",
              "    </tr>\n",
              "    <tr>\n",
              "      <th>1</th>\n",
              "      <td>male</td>\n",
              "      <td>1</td>\n",
              "      <td>0</td>\n",
              "      <td>65.0</td>\n",
              "      <td>100.0</td>\n",
              "      <td>67.0</td>\n",
              "      <td>96.0</td>\n",
              "      <td>328.0</td>\n",
              "      <td>A</td>\n",
              "    </tr>\n",
              "    <tr>\n",
              "      <th>2</th>\n",
              "      <td>male</td>\n",
              "      <td>1</td>\n",
              "      <td>0</td>\n",
              "      <td>10.0</td>\n",
              "      <td>99.0</td>\n",
              "      <td>97.0</td>\n",
              "      <td>58.0</td>\n",
              "      <td>264.0</td>\n",
              "      <td>B</td>\n",
              "    </tr>\n",
              "    <tr>\n",
              "      <th>3</th>\n",
              "      <td>male</td>\n",
              "      <td>1</td>\n",
              "      <td>1</td>\n",
              "      <td>22.0</td>\n",
              "      <td>51.0</td>\n",
              "      <td>41.0</td>\n",
              "      <td>84.0</td>\n",
              "      <td>198.0</td>\n",
              "      <td>D</td>\n",
              "    </tr>\n",
              "    <tr>\n",
              "      <th>4</th>\n",
              "      <td>male</td>\n",
              "      <td>0</td>\n",
              "      <td>1</td>\n",
              "      <td>26.0</td>\n",
              "      <td>58.0</td>\n",
              "      <td>64.0</td>\n",
              "      <td>65.0</td>\n",
              "      <td>213.0</td>\n",
              "      <td>C</td>\n",
              "    </tr>\n",
              "  </tbody>\n",
              "</table>\n",
              "</div>"
            ],
            "text/plain": [
              "  gender  lunch  test_preparation_course math_score  reading_score  \\\n",
              "0   male      1                        1       89.0           38.0   \n",
              "1   male      1                        0       65.0          100.0   \n",
              "2   male      1                        0       10.0           99.0   \n",
              "3   male      1                        1       22.0           51.0   \n",
              "4   male      0                        1       26.0           58.0   \n",
              "\n",
              "   writing_score  science_score  total_score grade  \n",
              "0           85.0           26.0        238.0     C  \n",
              "1           67.0           96.0        328.0     A  \n",
              "2           97.0           58.0        264.0     B  \n",
              "3           41.0           84.0        198.0     D  \n",
              "4           64.0           65.0        213.0     C  "
            ]
          },
          "execution_count": 326,
          "metadata": {},
          "output_type": "execute_result"
        }
      ],
      "source": [
        "#  NaNنبدل بدل 0 ب\n",
        "df[\"science_score\"] = df[\"science_score\"].replace(0, pd.NA)\n",
        "median_value = df[\"science_score\"].median()\n",
        "#نبدل القيم الفارغه بالوسيط\n",
        "df.loc[: , \"science_score\"] = df[\"science_score\"].fillna(median_value)\n",
        "\n",
        "df.head()"
      ]
    },
    {
      "cell_type": "code",
      "execution_count": null,
      "id": "0d72daf7-ea79-407f-87ec-82eb900bc9c0",
      "metadata": {
        "id": "0d72daf7-ea79-407f-87ec-82eb900bc9c0",
        "outputId": "ce1cb758-c527-4ea1-e549-e2dcccfb6f74"
      },
      "outputs": [
        {
          "data": {
            "text/plain": [
              "array([ 26.,  96.,  58.,  84.,  65.,  48.,  73.,  17.,  76.,  39.,  60.,\n",
              "        55.,  91.,  45.,  67.,  54.,  75.,  47.,  78.,  57.,   9.,  95.,\n",
              "        44.,  46.,  82.,  81.,  31.,  70.,  71.,  93.,  99.,  66.,  62.,\n",
              "        50.,  94.,  28.,  38.,  69.,  63.,  61.,  79.,  72., 100.,  51.,\n",
              "        74.,  52.,  56.,  33.,  36.,  90.,  53.,  88.,  59.,  27.,  23.,\n",
              "        15.,  10.,  42.,  77.,  83.,  80.,  49.,  40.,  43.,  64.,  97.,\n",
              "        86.,  25.,  41.,  34.,  89.,  32.,  87.,  98.,  92.,  85.,  35.,\n",
              "        68.,  30.,  29.,  13.,  37.,  11.,  12.,  18.,  22.,  14.,  21.,\n",
              "        24.,  19.,  20.,  16.])"
            ]
          },
          "execution_count": 327,
          "metadata": {},
          "output_type": "execute_result"
        }
      ],
      "source": [
        "checkUnique = df['science_score'].unique() # to check values in the column\n",
        "checkUnique"
      ]
    },
    {
      "cell_type": "code",
      "execution_count": null,
      "id": "1c58f513-9580-48fe-ad19-69cc89466955",
      "metadata": {
        "id": "1c58f513-9580-48fe-ad19-69cc89466955"
      },
      "outputs": [],
      "source": []
    },
    {
      "cell_type": "code",
      "execution_count": null,
      "id": "4a19a9e1-dec1-47f8-a6f2-1ff3760d33ff",
      "metadata": {
        "id": "4a19a9e1-dec1-47f8-a6f2-1ff3760d33ff"
      },
      "outputs": [],
      "source": []
    },
    {
      "cell_type": "code",
      "execution_count": null,
      "id": "58366e77-3bd4-49be-b387-967dabcde25a",
      "metadata": {
        "id": "58366e77-3bd4-49be-b387-967dabcde25a"
      },
      "outputs": [],
      "source": []
    },
    {
      "cell_type": "code",
      "execution_count": null,
      "id": "1c2ab474-d1d4-4768-89f7-374d19b9efd0",
      "metadata": {
        "id": "1c2ab474-d1d4-4768-89f7-374d19b9efd0"
      },
      "outputs": [],
      "source": [
        "#### total_score section ####"
      ]
    },
    {
      "cell_type": "code",
      "execution_count": null,
      "id": "908c69c1-d27a-4cb8-8d0d-43839c21604a",
      "metadata": {
        "id": "908c69c1-d27a-4cb8-8d0d-43839c21604a",
        "outputId": "fe5064b7-d80c-4324-deb6-3269ccdcb3bb"
      },
      "outputs": [
        {
          "data": {
            "text/html": [
              "<div>\n",
              "<style scoped>\n",
              "    .dataframe tbody tr th:only-of-type {\n",
              "        vertical-align: middle;\n",
              "    }\n",
              "\n",
              "    .dataframe tbody tr th {\n",
              "        vertical-align: top;\n",
              "    }\n",
              "\n",
              "    .dataframe thead th {\n",
              "        text-align: right;\n",
              "    }\n",
              "</style>\n",
              "<table border=\"1\" class=\"dataframe\">\n",
              "  <thead>\n",
              "    <tr style=\"text-align: right;\">\n",
              "      <th></th>\n",
              "      <th>gender</th>\n",
              "      <th>lunch</th>\n",
              "      <th>test_preparation_course</th>\n",
              "      <th>math_score</th>\n",
              "      <th>reading_score</th>\n",
              "      <th>writing_score</th>\n",
              "      <th>science_score</th>\n",
              "      <th>total_score</th>\n",
              "      <th>grade</th>\n",
              "    </tr>\n",
              "  </thead>\n",
              "  <tbody>\n",
              "    <tr>\n",
              "      <th>0</th>\n",
              "      <td>male</td>\n",
              "      <td>1</td>\n",
              "      <td>1</td>\n",
              "      <td>89.0</td>\n",
              "      <td>38.0</td>\n",
              "      <td>85.0</td>\n",
              "      <td>26.0</td>\n",
              "      <td>238.0</td>\n",
              "      <td>C</td>\n",
              "    </tr>\n",
              "    <tr>\n",
              "      <th>1</th>\n",
              "      <td>male</td>\n",
              "      <td>1</td>\n",
              "      <td>0</td>\n",
              "      <td>65.0</td>\n",
              "      <td>100.0</td>\n",
              "      <td>67.0</td>\n",
              "      <td>96.0</td>\n",
              "      <td>328.0</td>\n",
              "      <td>A</td>\n",
              "    </tr>\n",
              "    <tr>\n",
              "      <th>2</th>\n",
              "      <td>male</td>\n",
              "      <td>1</td>\n",
              "      <td>0</td>\n",
              "      <td>10.0</td>\n",
              "      <td>99.0</td>\n",
              "      <td>97.0</td>\n",
              "      <td>58.0</td>\n",
              "      <td>264.0</td>\n",
              "      <td>B</td>\n",
              "    </tr>\n",
              "    <tr>\n",
              "      <th>3</th>\n",
              "      <td>male</td>\n",
              "      <td>1</td>\n",
              "      <td>1</td>\n",
              "      <td>22.0</td>\n",
              "      <td>51.0</td>\n",
              "      <td>41.0</td>\n",
              "      <td>84.0</td>\n",
              "      <td>198.0</td>\n",
              "      <td>D</td>\n",
              "    </tr>\n",
              "    <tr>\n",
              "      <th>4</th>\n",
              "      <td>male</td>\n",
              "      <td>0</td>\n",
              "      <td>1</td>\n",
              "      <td>26.0</td>\n",
              "      <td>58.0</td>\n",
              "      <td>64.0</td>\n",
              "      <td>65.0</td>\n",
              "      <td>213.0</td>\n",
              "      <td>C</td>\n",
              "    </tr>\n",
              "  </tbody>\n",
              "</table>\n",
              "</div>"
            ],
            "text/plain": [
              "  gender  lunch  test_preparation_course math_score  reading_score  \\\n",
              "0   male      1                        1       89.0           38.0   \n",
              "1   male      1                        0       65.0          100.0   \n",
              "2   male      1                        0       10.0           99.0   \n",
              "3   male      1                        1       22.0           51.0   \n",
              "4   male      0                        1       26.0           58.0   \n",
              "\n",
              "   writing_score  science_score total_score grade  \n",
              "0           85.0           26.0       238.0     C  \n",
              "1           67.0           96.0       328.0     A  \n",
              "2           97.0           58.0       264.0     B  \n",
              "3           41.0           84.0       198.0     D  \n",
              "4           64.0           65.0       213.0     C  "
            ]
          },
          "execution_count": 329,
          "metadata": {},
          "output_type": "execute_result"
        }
      ],
      "source": [
        "df[\"total_score\"]=df[\"math_score\"]+df[\"reading_score\"]+df[\"writing_score\"]+df[\"science_score\"] #get total_score value\n",
        "df.head()\n"
      ]
    },
    {
      "cell_type": "code",
      "execution_count": null,
      "id": "2f8559f7-e60e-4c59-9ddd-608f58f7b933",
      "metadata": {
        "id": "2f8559f7-e60e-4c59-9ddd-608f58f7b933",
        "outputId": "efe613bf-ba20-452d-f80e-c7fe20bd17ee"
      },
      "outputs": [
        {
          "data": {
            "text/plain": [
              "array([238.0, 328.0, 264.0, 198.0, 213.0, 206.0, 239.0, 156.0, 283.0,\n",
              "       217.0, 266.0, 220.0, 267.0, 205.5, 288.0, 207.0, 275.0, 262.0,\n",
              "       242.5, 212.0, 242.0, 237.0, 282.0, 165.0, 307.0, 250.0, 240.0,\n",
              "       233.0, 306.0, 178.0, 169.0, 280.0, 247.0, 292.0, 256.0, 319.0,\n",
              "       316.0, 252.0, 215.0, 301.0, 313.5, 203.0, 261.0, 241.0, 311.0,\n",
              "       253.0, 278.5, 257.0, 226.0, 298.0, 248.0, 236.0, 232.0, 284.0,\n",
              "       270.0, 313.0, 230.0, 369.0, 221.0, 302.0, 268.0, 249.0, 210.0,\n",
              "       176.0, 285.0, 246.0, 182.0, 304.0, 229.0, 231.0, 255.0, 305.0,\n",
              "       243.0, 287.0, 188.0, 251.0, 208.0, 327.0, 340.0, 191.0, 218.0,\n",
              "       273.0, 224.0, 314.0, 197.0, 225.0, 321.0, 228.0, 300.0, 172.0,\n",
              "       234.0, 335.0, 320.0, 324.0, 166.0, 317.0, 294.0, 140.0, 274.0,\n",
              "       352.0, 281.0, 310.0, 265.0, 192.0, 183.0, 194.0, 204.0, 308.0,\n",
              "       258.0, 309.0, 297.0, 281.5, 278.0, 195.0, 199.0, 269.0, 190.0,\n",
              "       322.0, 142.0, 257.5, 235.0, 276.0, 303.0, 201.0, 272.0, 254.0,\n",
              "       196.0, 260.0, 171.0, 186.0, 262.5, 227.0, 146.0, 219.0, 211.0,\n",
              "       271.0, 214.0, 205.0, 277.0, 216.0, 209.0, 263.0, 318.0, 185.0,\n",
              "       355.0, 289.0, 325.0, 164.0, 222.0, 157.0, 147.0, 330.0, 179.0,\n",
              "       115.0, 291.0, 295.0, 371.0, 360.0, 329.0, 177.0, 202.0, 141.0,\n",
              "       244.0, 334.0, 326.0, 331.0, 187.0, 312.0, 337.0, 150.0, 293.0,\n",
              "       245.0, 121.0, 155.0, 139.0, 296.0, 135.0, 177.5, 223.0, 336.0,\n",
              "       343.0, 290.0, 323.0, 193.0, 362.0, 200.0, 189.0, 170.0, 346.0,\n",
              "       315.0, 261.5, 339.0, 127.0, 180.0, 174.0, 363.0, 341.0, 279.0,\n",
              "       351.0, 161.0, 348.0, 358.0, 286.0, 168.0, 333.0, 353.0, 289.5,\n",
              "       299.0, 173.0, 332.0, 259.0, 359.0, 344.0, 297.5, 89.0, 133.0,\n",
              "       163.0, 154.0, 148.0, 167.0, 130.0, 179.5, 184.0, 367.0, 181.0,\n",
              "       376.0, 110.0, 160.0, 357.0, 245.5, 342.0, 126.0, 345.0, 144.0,\n",
              "       366.0, 356.0, 145.0, 158.0, 338.0, 349.0, 129.0, 162.0, 175.0,\n",
              "       137.0, 223.5, 347.0, 153.0, 375.0, 149.0, 143.0, 132.0, 350.0,\n",
              "       377.0, 373.0, 138.0, 354.0, 291.5, 361.0, 374.0, 159.0, 151.0,\n",
              "       120.0, 152.0, 103.0, 253.5, 364.0, 370.0, 203.5, 365.0, 243.5,\n",
              "       368.0, 382.0, 383.0, 322.5, 250.5, 285.5, 378.0, 234.5],\n",
              "      dtype=object)"
            ]
          },
          "execution_count": 330,
          "metadata": {},
          "output_type": "execute_result"
        }
      ],
      "source": [
        "checkUnique = df['total_score'].unique() # to check values in the column\n",
        "checkUnique"
      ]
    },
    {
      "cell_type": "code",
      "execution_count": null,
      "id": "d05e2f2c-da34-45b2-a06a-00e29a174242",
      "metadata": {
        "id": "d05e2f2c-da34-45b2-a06a-00e29a174242"
      },
      "outputs": [],
      "source": []
    },
    {
      "cell_type": "code",
      "execution_count": null,
      "id": "3bd19c4f-3a41-4f06-9eee-9cd1d180c208",
      "metadata": {
        "id": "3bd19c4f-3a41-4f06-9eee-9cd1d180c208"
      },
      "outputs": [],
      "source": []
    },
    {
      "cell_type": "code",
      "execution_count": null,
      "id": "b2d3ea3a-a005-49b1-a7eb-2e0d8c521ab3",
      "metadata": {
        "id": "b2d3ea3a-a005-49b1-a7eb-2e0d8c521ab3"
      },
      "outputs": [],
      "source": []
    },
    {
      "cell_type": "code",
      "execution_count": null,
      "id": "fbf93177-80ae-4789-a107-54a7145644ef",
      "metadata": {
        "id": "fbf93177-80ae-4789-a107-54a7145644ef"
      },
      "outputs": [],
      "source": [
        "#### presentage section ####"
      ]
    },
    {
      "cell_type": "code",
      "execution_count": null,
      "id": "01e30f13-2aed-4d82-9c8d-91ddfe173e2b",
      "metadata": {
        "id": "01e30f13-2aed-4d82-9c8d-91ddfe173e2b"
      },
      "outputs": [],
      "source": [
        "df[\"Percentage\"]=(df[\"total_score\"]/400)*100  #add columns Percentage & get it's values"
      ]
    },
    {
      "cell_type": "code",
      "execution_count": null,
      "id": "d7a0a225-df6b-4370-86c8-0acb6b056835",
      "metadata": {
        "id": "d7a0a225-df6b-4370-86c8-0acb6b056835",
        "outputId": "7e35acba-a947-4e38-f051-8188d6a551f3"
      },
      "outputs": [
        {
          "data": {
            "text/html": [
              "<div>\n",
              "<style scoped>\n",
              "    .dataframe tbody tr th:only-of-type {\n",
              "        vertical-align: middle;\n",
              "    }\n",
              "\n",
              "    .dataframe tbody tr th {\n",
              "        vertical-align: top;\n",
              "    }\n",
              "\n",
              "    .dataframe thead th {\n",
              "        text-align: right;\n",
              "    }\n",
              "</style>\n",
              "<table border=\"1\" class=\"dataframe\">\n",
              "  <thead>\n",
              "    <tr style=\"text-align: right;\">\n",
              "      <th></th>\n",
              "      <th>gender</th>\n",
              "      <th>lunch</th>\n",
              "      <th>test_preparation_course</th>\n",
              "      <th>math_score</th>\n",
              "      <th>reading_score</th>\n",
              "      <th>writing_score</th>\n",
              "      <th>science_score</th>\n",
              "      <th>total_score</th>\n",
              "      <th>Percentage</th>\n",
              "      <th>grade</th>\n",
              "    </tr>\n",
              "  </thead>\n",
              "  <tbody>\n",
              "    <tr>\n",
              "      <th>0</th>\n",
              "      <td>male</td>\n",
              "      <td>1</td>\n",
              "      <td>1</td>\n",
              "      <td>89.0</td>\n",
              "      <td>38.0</td>\n",
              "      <td>85.0</td>\n",
              "      <td>26.0</td>\n",
              "      <td>238.0</td>\n",
              "      <td>59.5</td>\n",
              "      <td>C</td>\n",
              "    </tr>\n",
              "    <tr>\n",
              "      <th>1</th>\n",
              "      <td>male</td>\n",
              "      <td>1</td>\n",
              "      <td>0</td>\n",
              "      <td>65.0</td>\n",
              "      <td>100.0</td>\n",
              "      <td>67.0</td>\n",
              "      <td>96.0</td>\n",
              "      <td>328.0</td>\n",
              "      <td>82.0</td>\n",
              "      <td>A</td>\n",
              "    </tr>\n",
              "    <tr>\n",
              "      <th>2</th>\n",
              "      <td>male</td>\n",
              "      <td>1</td>\n",
              "      <td>0</td>\n",
              "      <td>10.0</td>\n",
              "      <td>99.0</td>\n",
              "      <td>97.0</td>\n",
              "      <td>58.0</td>\n",
              "      <td>264.0</td>\n",
              "      <td>66.0</td>\n",
              "      <td>B</td>\n",
              "    </tr>\n",
              "    <tr>\n",
              "      <th>3</th>\n",
              "      <td>male</td>\n",
              "      <td>1</td>\n",
              "      <td>1</td>\n",
              "      <td>22.0</td>\n",
              "      <td>51.0</td>\n",
              "      <td>41.0</td>\n",
              "      <td>84.0</td>\n",
              "      <td>198.0</td>\n",
              "      <td>49.5</td>\n",
              "      <td>D</td>\n",
              "    </tr>\n",
              "    <tr>\n",
              "      <th>4</th>\n",
              "      <td>male</td>\n",
              "      <td>0</td>\n",
              "      <td>1</td>\n",
              "      <td>26.0</td>\n",
              "      <td>58.0</td>\n",
              "      <td>64.0</td>\n",
              "      <td>65.0</td>\n",
              "      <td>213.0</td>\n",
              "      <td>53.25</td>\n",
              "      <td>C</td>\n",
              "    </tr>\n",
              "  </tbody>\n",
              "</table>\n",
              "</div>"
            ],
            "text/plain": [
              "  gender  lunch  test_preparation_course math_score  reading_score  \\\n",
              "0   male      1                        1       89.0           38.0   \n",
              "1   male      1                        0       65.0          100.0   \n",
              "2   male      1                        0       10.0           99.0   \n",
              "3   male      1                        1       22.0           51.0   \n",
              "4   male      0                        1       26.0           58.0   \n",
              "\n",
              "   writing_score  science_score total_score Percentage grade  \n",
              "0           85.0           26.0       238.0       59.5     C  \n",
              "1           67.0           96.0       328.0       82.0     A  \n",
              "2           97.0           58.0       264.0       66.0     B  \n",
              "3           41.0           84.0       198.0       49.5     D  \n",
              "4           64.0           65.0       213.0      53.25     C  "
            ]
          },
          "execution_count": 333,
          "metadata": {},
          "output_type": "execute_result"
        }
      ],
      "source": [
        "# listحولنا اسماء الاعمده لقائمه\n",
        "columns = list(df.columns)\n",
        "# total_score  بجانب العمود  Percentage لنقل العمودpop استخدمنا دالة\n",
        "#  بدلنا المواقع index(\"Percentage\") لنحدد موقعه ونضيف  قبله index(\"grade\")استخدمنا\n",
        "\n",
        "columns.insert(columns.index(\"grade\"), columns.pop(columns.index(\"Percentage\")))\n",
        "df = df[columns]\n",
        "\n",
        "df.head()"
      ]
    },
    {
      "cell_type": "code",
      "execution_count": null,
      "id": "34deb68e-9148-4fd4-af54-c5c68f83b1e5",
      "metadata": {
        "id": "34deb68e-9148-4fd4-af54-c5c68f83b1e5"
      },
      "outputs": [],
      "source": []
    },
    {
      "cell_type": "code",
      "execution_count": null,
      "id": "30091243-1b19-4899-b71b-721b82f55bb6",
      "metadata": {
        "id": "30091243-1b19-4899-b71b-721b82f55bb6"
      },
      "outputs": [],
      "source": []
    },
    {
      "cell_type": "code",
      "execution_count": null,
      "id": "af8305be-22b9-48ed-a8ee-ac5a9bdcfa13",
      "metadata": {
        "id": "af8305be-22b9-48ed-a8ee-ac5a9bdcfa13"
      },
      "outputs": [],
      "source": []
    },
    {
      "cell_type": "code",
      "execution_count": null,
      "id": "87bdc776-e6ed-43c8-8043-59d43ef43a89",
      "metadata": {
        "id": "87bdc776-e6ed-43c8-8043-59d43ef43a89"
      },
      "outputs": [],
      "source": [
        "#### grade section ####"
      ]
    },
    {
      "cell_type": "code",
      "execution_count": null,
      "id": "a707ad1d-2e84-4435-8ac5-333a6f56439d",
      "metadata": {
        "id": "a707ad1d-2e84-4435-8ac5-333a6f56439d"
      },
      "outputs": [],
      "source": [
        "grades = [] #  gradeوضع قيم للعمود\n",
        "\n",
        "for i in df['Percentage']:\n",
        "    if i <=100 and i>=95:\n",
        "        grades.append('A+')\n",
        "    elif i<95 and i>=90:\n",
        "        grades.append('A')\n",
        "    elif i<90 and i>=85:\n",
        "        grades.append('A-')\n",
        "    elif i<85 and i>=80:\n",
        "        grades.append('B+')\n",
        "    elif i<80 and i>=75:\n",
        "        grades.append('B')\n",
        "    elif i<75 and i>=70:\n",
        "        grades.append('C+')\n",
        "    elif i<70 and i>=65:\n",
        "        grades.append('C')\n",
        "    elif i<65 and i>=60:\n",
        "        grades.append('D+')\n",
        "    elif i<60 and i>=55:\n",
        "        grades.append('D')\n",
        "    elif i<55 and i>=50:\n",
        "        grades.append('D-')\n",
        "    else:\n",
        "        grades.append('F')\n",
        "\n",
        "df['grade'] = grades"
      ]
    },
    {
      "cell_type": "code",
      "execution_count": null,
      "id": "6a4318b8-fe5f-4729-a017-39f5115d624f",
      "metadata": {
        "id": "6a4318b8-fe5f-4729-a017-39f5115d624f",
        "outputId": "92a4ac5c-2253-4430-bc4b-77dfbb769822"
      },
      "outputs": [
        {
          "data": {
            "text/html": [
              "<div>\n",
              "<style scoped>\n",
              "    .dataframe tbody tr th:only-of-type {\n",
              "        vertical-align: middle;\n",
              "    }\n",
              "\n",
              "    .dataframe tbody tr th {\n",
              "        vertical-align: top;\n",
              "    }\n",
              "\n",
              "    .dataframe thead th {\n",
              "        text-align: right;\n",
              "    }\n",
              "</style>\n",
              "<table border=\"1\" class=\"dataframe\">\n",
              "  <thead>\n",
              "    <tr style=\"text-align: right;\">\n",
              "      <th></th>\n",
              "      <th>gender</th>\n",
              "      <th>lunch</th>\n",
              "      <th>test_preparation_course</th>\n",
              "      <th>math_score</th>\n",
              "      <th>reading_score</th>\n",
              "      <th>writing_score</th>\n",
              "      <th>science_score</th>\n",
              "      <th>total_score</th>\n",
              "      <th>Percentage</th>\n",
              "      <th>grade</th>\n",
              "    </tr>\n",
              "  </thead>\n",
              "  <tbody>\n",
              "    <tr>\n",
              "      <th>0</th>\n",
              "      <td>male</td>\n",
              "      <td>1</td>\n",
              "      <td>1</td>\n",
              "      <td>89.0</td>\n",
              "      <td>38.0</td>\n",
              "      <td>85.0</td>\n",
              "      <td>26.0</td>\n",
              "      <td>238.0</td>\n",
              "      <td>59.5</td>\n",
              "      <td>D</td>\n",
              "    </tr>\n",
              "    <tr>\n",
              "      <th>1</th>\n",
              "      <td>male</td>\n",
              "      <td>1</td>\n",
              "      <td>0</td>\n",
              "      <td>65.0</td>\n",
              "      <td>100.0</td>\n",
              "      <td>67.0</td>\n",
              "      <td>96.0</td>\n",
              "      <td>328.0</td>\n",
              "      <td>82.0</td>\n",
              "      <td>B+</td>\n",
              "    </tr>\n",
              "    <tr>\n",
              "      <th>2</th>\n",
              "      <td>male</td>\n",
              "      <td>1</td>\n",
              "      <td>0</td>\n",
              "      <td>10.0</td>\n",
              "      <td>99.0</td>\n",
              "      <td>97.0</td>\n",
              "      <td>58.0</td>\n",
              "      <td>264.0</td>\n",
              "      <td>66.0</td>\n",
              "      <td>C</td>\n",
              "    </tr>\n",
              "    <tr>\n",
              "      <th>3</th>\n",
              "      <td>male</td>\n",
              "      <td>1</td>\n",
              "      <td>1</td>\n",
              "      <td>22.0</td>\n",
              "      <td>51.0</td>\n",
              "      <td>41.0</td>\n",
              "      <td>84.0</td>\n",
              "      <td>198.0</td>\n",
              "      <td>49.5</td>\n",
              "      <td>F</td>\n",
              "    </tr>\n",
              "    <tr>\n",
              "      <th>4</th>\n",
              "      <td>male</td>\n",
              "      <td>0</td>\n",
              "      <td>1</td>\n",
              "      <td>26.0</td>\n",
              "      <td>58.0</td>\n",
              "      <td>64.0</td>\n",
              "      <td>65.0</td>\n",
              "      <td>213.0</td>\n",
              "      <td>53.25</td>\n",
              "      <td>D-</td>\n",
              "    </tr>\n",
              "  </tbody>\n",
              "</table>\n",
              "</div>"
            ],
            "text/plain": [
              "  gender  lunch  test_preparation_course math_score  reading_score  \\\n",
              "0   male      1                        1       89.0           38.0   \n",
              "1   male      1                        0       65.0          100.0   \n",
              "2   male      1                        0       10.0           99.0   \n",
              "3   male      1                        1       22.0           51.0   \n",
              "4   male      0                        1       26.0           58.0   \n",
              "\n",
              "   writing_score  science_score total_score Percentage grade  \n",
              "0           85.0           26.0       238.0       59.5     D  \n",
              "1           67.0           96.0       328.0       82.0    B+  \n",
              "2           97.0           58.0       264.0       66.0     C  \n",
              "3           41.0           84.0       198.0       49.5     F  \n",
              "4           64.0           65.0       213.0      53.25    D-  "
            ]
          },
          "execution_count": 336,
          "metadata": {},
          "output_type": "execute_result"
        }
      ],
      "source": [
        "df.head()"
      ]
    },
    {
      "cell_type": "code",
      "execution_count": null,
      "id": "790a3dce-114f-4659-bcf9-4538d072e70d",
      "metadata": {
        "id": "790a3dce-114f-4659-bcf9-4538d072e70d",
        "outputId": "106d532e-407d-4499-ffc5-ca8c9b2cb493"
      },
      "outputs": [
        {
          "name": "stdout",
          "output_type": "stream",
          "text": [
            "<class 'pandas.core.frame.DataFrame'>\n",
            "RangeIndex: 10000 entries, 0 to 9999\n",
            "Data columns (total 10 columns):\n",
            " #   Column                   Non-Null Count  Dtype  \n",
            "---  ------                   --------------  -----  \n",
            " 0   gender                   10000 non-null  object \n",
            " 1   lunch                    10000 non-null  int32  \n",
            " 2   test_preparation_course  10000 non-null  int32  \n",
            " 3   math_score               10000 non-null  object \n",
            " 4   reading_score            10000 non-null  float64\n",
            " 5   writing_score            10000 non-null  float64\n",
            " 6   science_score            10000 non-null  float64\n",
            " 7   total_score              10000 non-null  object \n",
            " 8   Percentage               10000 non-null  object \n",
            " 9   grade                    10000 non-null  object \n",
            "dtypes: float64(3), int32(2), object(5)\n",
            "memory usage: 703.3+ KB\n"
          ]
        }
      ],
      "source": [
        "df.info()"
      ]
    },
    {
      "cell_type": "code",
      "execution_count": null,
      "id": "4d609377-baf7-4bfe-a071-0b0f9a20c9d7",
      "metadata": {
        "id": "4d609377-baf7-4bfe-a071-0b0f9a20c9d7",
        "outputId": "de4a3073-8ff2-4935-862b-839996123335"
      },
      "outputs": [
        {
          "data": {
            "text/html": [
              "<div>\n",
              "<style scoped>\n",
              "    .dataframe tbody tr th:only-of-type {\n",
              "        vertical-align: middle;\n",
              "    }\n",
              "\n",
              "    .dataframe tbody tr th {\n",
              "        vertical-align: top;\n",
              "    }\n",
              "\n",
              "    .dataframe thead th {\n",
              "        text-align: right;\n",
              "    }\n",
              "</style>\n",
              "<table border=\"1\" class=\"dataframe\">\n",
              "  <thead>\n",
              "    <tr style=\"text-align: right;\">\n",
              "      <th></th>\n",
              "      <th>gender</th>\n",
              "      <th>lunch</th>\n",
              "      <th>test_preparation_course</th>\n",
              "      <th>math_score</th>\n",
              "      <th>reading_score</th>\n",
              "      <th>writing_score</th>\n",
              "      <th>science_score</th>\n",
              "      <th>total_score</th>\n",
              "      <th>Percentage</th>\n",
              "      <th>grade</th>\n",
              "    </tr>\n",
              "  </thead>\n",
              "  <tbody>\n",
              "    <tr>\n",
              "      <th>0</th>\n",
              "      <td>male</td>\n",
              "      <td>1</td>\n",
              "      <td>1</td>\n",
              "      <td>89.0</td>\n",
              "      <td>38.0</td>\n",
              "      <td>85.0</td>\n",
              "      <td>26.0</td>\n",
              "      <td>238.0</td>\n",
              "      <td>59.5</td>\n",
              "      <td>D</td>\n",
              "    </tr>\n",
              "    <tr>\n",
              "      <th>1</th>\n",
              "      <td>male</td>\n",
              "      <td>1</td>\n",
              "      <td>0</td>\n",
              "      <td>65.0</td>\n",
              "      <td>100.0</td>\n",
              "      <td>67.0</td>\n",
              "      <td>96.0</td>\n",
              "      <td>328.0</td>\n",
              "      <td>82.0</td>\n",
              "      <td>B+</td>\n",
              "    </tr>\n",
              "    <tr>\n",
              "      <th>2</th>\n",
              "      <td>male</td>\n",
              "      <td>1</td>\n",
              "      <td>0</td>\n",
              "      <td>10.0</td>\n",
              "      <td>99.0</td>\n",
              "      <td>97.0</td>\n",
              "      <td>58.0</td>\n",
              "      <td>264.0</td>\n",
              "      <td>66.0</td>\n",
              "      <td>C</td>\n",
              "    </tr>\n",
              "    <tr>\n",
              "      <th>3</th>\n",
              "      <td>male</td>\n",
              "      <td>1</td>\n",
              "      <td>1</td>\n",
              "      <td>22.0</td>\n",
              "      <td>51.0</td>\n",
              "      <td>41.0</td>\n",
              "      <td>84.0</td>\n",
              "      <td>198.0</td>\n",
              "      <td>49.5</td>\n",
              "      <td>F</td>\n",
              "    </tr>\n",
              "    <tr>\n",
              "      <th>4</th>\n",
              "      <td>male</td>\n",
              "      <td>0</td>\n",
              "      <td>1</td>\n",
              "      <td>26.0</td>\n",
              "      <td>58.0</td>\n",
              "      <td>64.0</td>\n",
              "      <td>65.0</td>\n",
              "      <td>213.0</td>\n",
              "      <td>53.25</td>\n",
              "      <td>D-</td>\n",
              "    </tr>\n",
              "    <tr>\n",
              "      <th>...</th>\n",
              "      <td>...</td>\n",
              "      <td>...</td>\n",
              "      <td>...</td>\n",
              "      <td>...</td>\n",
              "      <td>...</td>\n",
              "      <td>...</td>\n",
              "      <td>...</td>\n",
              "      <td>...</td>\n",
              "      <td>...</td>\n",
              "      <td>...</td>\n",
              "    </tr>\n",
              "    <tr>\n",
              "      <th>9995</th>\n",
              "      <td>female</td>\n",
              "      <td>1</td>\n",
              "      <td>0</td>\n",
              "      <td>78.0</td>\n",
              "      <td>60.0</td>\n",
              "      <td>46.0</td>\n",
              "      <td>58.0</td>\n",
              "      <td>242.0</td>\n",
              "      <td>60.5</td>\n",
              "      <td>D+</td>\n",
              "    </tr>\n",
              "    <tr>\n",
              "      <th>9996</th>\n",
              "      <td>female</td>\n",
              "      <td>1</td>\n",
              "      <td>0</td>\n",
              "      <td>37.0</td>\n",
              "      <td>92.0</td>\n",
              "      <td>99.0</td>\n",
              "      <td>73.0</td>\n",
              "      <td>301.0</td>\n",
              "      <td>75.25</td>\n",
              "      <td>B</td>\n",
              "    </tr>\n",
              "    <tr>\n",
              "      <th>9997</th>\n",
              "      <td>female</td>\n",
              "      <td>1</td>\n",
              "      <td>1</td>\n",
              "      <td>70.0</td>\n",
              "      <td>71.0</td>\n",
              "      <td>100.0</td>\n",
              "      <td>90.0</td>\n",
              "      <td>331.0</td>\n",
              "      <td>82.75</td>\n",
              "      <td>B+</td>\n",
              "    </tr>\n",
              "    <tr>\n",
              "      <th>9998</th>\n",
              "      <td>female</td>\n",
              "      <td>1</td>\n",
              "      <td>0</td>\n",
              "      <td>87.0</td>\n",
              "      <td>60.0</td>\n",
              "      <td>100.0</td>\n",
              "      <td>89.0</td>\n",
              "      <td>336.0</td>\n",
              "      <td>84.0</td>\n",
              "      <td>B+</td>\n",
              "    </tr>\n",
              "    <tr>\n",
              "      <th>9999</th>\n",
              "      <td>female</td>\n",
              "      <td>1</td>\n",
              "      <td>0</td>\n",
              "      <td>31.0</td>\n",
              "      <td>89.0</td>\n",
              "      <td>93.0</td>\n",
              "      <td>80.0</td>\n",
              "      <td>293.0</td>\n",
              "      <td>73.25</td>\n",
              "      <td>C+</td>\n",
              "    </tr>\n",
              "  </tbody>\n",
              "</table>\n",
              "<p>10000 rows × 10 columns</p>\n",
              "</div>"
            ],
            "text/plain": [
              "      gender  lunch  test_preparation_course math_score  reading_score  \\\n",
              "0       male      1                        1       89.0           38.0   \n",
              "1       male      1                        0       65.0          100.0   \n",
              "2       male      1                        0       10.0           99.0   \n",
              "3       male      1                        1       22.0           51.0   \n",
              "4       male      0                        1       26.0           58.0   \n",
              "...      ...    ...                      ...        ...            ...   \n",
              "9995  female      1                        0       78.0           60.0   \n",
              "9996  female      1                        0       37.0           92.0   \n",
              "9997  female      1                        1       70.0           71.0   \n",
              "9998  female      1                        0       87.0           60.0   \n",
              "9999  female      1                        0       31.0           89.0   \n",
              "\n",
              "      writing_score  science_score total_score Percentage grade  \n",
              "0              85.0           26.0       238.0       59.5     D  \n",
              "1              67.0           96.0       328.0       82.0    B+  \n",
              "2              97.0           58.0       264.0       66.0     C  \n",
              "3              41.0           84.0       198.0       49.5     F  \n",
              "4              64.0           65.0       213.0      53.25    D-  \n",
              "...             ...            ...         ...        ...   ...  \n",
              "9995           46.0           58.0       242.0       60.5    D+  \n",
              "9996           99.0           73.0       301.0      75.25     B  \n",
              "9997          100.0           90.0       331.0      82.75    B+  \n",
              "9998          100.0           89.0       336.0       84.0    B+  \n",
              "9999           93.0           80.0       293.0      73.25    C+  \n",
              "\n",
              "[10000 rows x 10 columns]"
            ]
          },
          "execution_count": 338,
          "metadata": {},
          "output_type": "execute_result"
        }
      ],
      "source": [
        "df"
      ]
    },
    {
      "cell_type": "code",
      "execution_count": null,
      "id": "1fc2838b-2fbd-473e-bff8-bf7767a7fb20",
      "metadata": {
        "id": "1fc2838b-2fbd-473e-bff8-bf7767a7fb20"
      },
      "outputs": [],
      "source": []
    },
    {
      "cell_type": "code",
      "execution_count": null,
      "id": "67e03f18-f18f-4a8f-905b-4789cadedb21",
      "metadata": {
        "id": "67e03f18-f18f-4a8f-905b-4789cadedb21"
      },
      "outputs": [],
      "source": [
        "# visulaization#\n"
      ]
    },
    {
      "cell_type": "code",
      "execution_count": null,
      "id": "71ee100d-2e48-44dc-a7e1-ed656711aced",
      "metadata": {
        "id": "71ee100d-2e48-44dc-a7e1-ed656711aced"
      },
      "outputs": [],
      "source": [
        "genderRelation = df.groupby('gender')['total_score'].sum()"
      ]
    },
    {
      "cell_type": "code",
      "execution_count": null,
      "id": "48923072-951b-4a95-a174-c2d3662a9338",
      "metadata": {
        "id": "48923072-951b-4a95-a174-c2d3662a9338",
        "outputId": "0d23822a-5914-40b9-f6a6-134214ebe5ad"
      },
      "outputs": [
        {
          "data": {
            "text/plain": [
              "<Axes: title={'center': 'male vs female / total score'}, xlabel='gender', ylabel='total score'>"
            ]
          },
          "execution_count": 341,
          "metadata": {},
          "output_type": "execute_result"
        },
        {
          "data": {
            "image/png": "[encoded data removed]",
            "text/plain": [
              "<Figure size 640x480 with 1 Axes>"
            ]
          },
          "metadata": {},
          "output_type": "display_data"
        }
      ],
      "source": [
        "genderRelation.plot(kind = 'bar',title = 'male vs female / total score', xlabel = 'gender' , ylabel = 'total score' , grid = True , legend = True )"
      ]
    },
    {
      "cell_type": "code",
      "execution_count": null,
      "id": "24e33916-76dc-4ed3-ba3a-3da397237a29",
      "metadata": {
        "id": "24e33916-76dc-4ed3-ba3a-3da397237a29"
      },
      "outputs": [],
      "source": [
        "lunchRelation = df.groupby('lunch')['total_score'].sum()"
      ]
    },
    {
      "cell_type": "code",
      "execution_count": null,
      "id": "4e25d1c6-3e4a-4dc5-9c0b-c01fc3c91256",
      "metadata": {
        "id": "4e25d1c6-3e4a-4dc5-9c0b-c01fc3c91256",
        "outputId": "9379097c-bde3-48bf-d60c-6effeb5d6b02"
      },
      "outputs": [
        {
          "data": {
            "text/plain": [
              "<Axes: title={'center': 'lunch / total score'}, xlabel='had lunch', ylabel='total score'>"
            ]
          },
          "execution_count": 343,
          "metadata": {},
          "output_type": "execute_result"
        },
        {
          "data": {
            "image/png": "[encoded data removed]",
            "text/plain": [
              "<Figure size 640x480 with 1 Axes>"
            ]
          },
          "metadata": {},
          "output_type": "display_data"
        }
      ],
      "source": [
        "lunchRelation.plot(kind = 'bar',title = 'lunch / total score', xlabel = 'had lunch' , ylabel = 'total score' , grid = True , legend = True)"
      ]
    },
    {
      "cell_type": "code",
      "execution_count": null,
      "id": "90abc54d-eb2f-4cc8-8468-213b190eb657",
      "metadata": {
        "id": "90abc54d-eb2f-4cc8-8468-213b190eb657"
      },
      "outputs": [],
      "source": [
        "courseRelation = df.groupby('test_preparation_course')['total_score'].sum()"
      ]
    },
    {
      "cell_type": "code",
      "execution_count": null,
      "id": "75c9e4e3-f603-405f-8ccb-f98bd1ead89b",
      "metadata": {
        "id": "75c9e4e3-f603-405f-8ccb-f98bd1ead89b",
        "outputId": "cdc6ff00-7785-4b8e-e54a-3875aa816bf2"
      },
      "outputs": [
        {
          "data": {
            "text/plain": [
              "<Axes: title={'center': 'test preparation course/ total score'}, xlabel='attendance', ylabel='total score'>"
            ]
          },
          "execution_count": 345,
          "metadata": {},
          "output_type": "execute_result"
        },
        {
          "data": {
            "image/png": "[encoded data removed]",
            "text/plain": [
              "<Figure size 640x480 with 1 Axes>"
            ]
          },
          "metadata": {},
          "output_type": "display_data"
        }
      ],
      "source": [
        "courseRelation.plot(kind = 'bar',title = 'test preparation course/ total score', xlabel = 'attendance' , ylabel = 'total score' , grid = True , legend = True)"
      ]
    },
    {
      "cell_type": "code",
      "execution_count": null,
      "id": "b9f80159-e131-450d-b910-3d8becc3c20c",
      "metadata": {
        "id": "b9f80159-e131-450d-b910-3d8becc3c20c"
      },
      "outputs": [],
      "source": []
    },
    {
      "cell_type": "code",
      "execution_count": null,
      "id": "3a880984-219e-4386-936c-fb0262893ce1",
      "metadata": {
        "id": "3a880984-219e-4386-936c-fb0262893ce1"
      },
      "outputs": [],
      "source": []
    },
    {
      "cell_type": "code",
      "execution_count": null,
      "id": "e1cca080-dd04-45b2-9c9b-1698fc9a8e8f",
      "metadata": {
        "id": "e1cca080-dd04-45b2-9c9b-1698fc9a8e8f"
      },
      "outputs": [],
      "source": [
        "pieRelation = df.groupby('grade')['Percentage'].sum()\n"
      ]
    },
    {
      "cell_type": "code",
      "execution_count": null,
      "id": "2de2559e-0e99-4dc7-9c91-9400f1b59e95",
      "metadata": {
        "id": "2de2559e-0e99-4dc7-9c91-9400f1b59e95",
        "outputId": "9f50a6ed-3350-4e28-cced-1fff4b7df84c"
      },
      "outputs": [
        {
          "name": "stderr",
          "output_type": "stream",
          "text": [
            "C:\\Users\\mohab\\AppData\\Local\\Temp\\ipykernel_2320\\4212672367.py:1: FutureWarning: Downcasting object dtype arrays on .fillna, .ffill, .bfill is deprecated and will change in a future version. Call result.infer_objects(copy=False) instead. To opt-in to the future behavior, set `pd.set_option('future.no_silent_downcasting', True)`\n",
            "  pieRelation.plot(kind = 'pie', y = 'Percentage' , autopct= '%1.2f%%' , figsize = (10,10))\n"
          ]
        },
        {
          "data": {
            "text/plain": [
              "<Axes: ylabel='Percentage'>"
            ]
          },
          "execution_count": 347,
          "metadata": {},
          "output_type": "execute_result"
        },
        {
          "data": {
            "image/png": "[encoded data removed]",
            "text/plain": [
              "<Figure size 1000x1000 with 1 Axes>"
            ]
          },
          "metadata": {},
          "output_type": "display_data"
        }
      ],
      "source": [
        "pieRelation.plot(kind = 'pie', y = 'Percentage' , autopct= '%1.2f%%' , figsize = (10,10))"
      ]
    },
    {
      "cell_type": "code",
      "execution_count": null,
      "id": "5456f5b2-90e1-4ffe-8c5e-8d179af2bb4f",
      "metadata": {
        "id": "5456f5b2-90e1-4ffe-8c5e-8d179af2bb4f"
      },
      "outputs": [],
      "source": [
        "df2 = df"
      ]
    },
    {
      "cell_type": "code",
      "execution_count": null,
      "id": "4502320a-1f88-47cd-97ab-2b2688aa11e9",
      "metadata": {
        "id": "4502320a-1f88-47cd-97ab-2b2688aa11e9",
        "outputId": "8f3f6fa4-d392-4117-95fe-b4c5846efabb"
      },
      "outputs": [
        {
          "data": {
            "text/html": [
              "<div>\n",
              "<style scoped>\n",
              "    .dataframe tbody tr th:only-of-type {\n",
              "        vertical-align: middle;\n",
              "    }\n",
              "\n",
              "    .dataframe tbody tr th {\n",
              "        vertical-align: top;\n",
              "    }\n",
              "\n",
              "    .dataframe thead th {\n",
              "        text-align: right;\n",
              "    }\n",
              "</style>\n",
              "<table border=\"1\" class=\"dataframe\">\n",
              "  <thead>\n",
              "    <tr style=\"text-align: right;\">\n",
              "      <th></th>\n",
              "      <th>gender</th>\n",
              "      <th>math_score</th>\n",
              "      <th>reading_score</th>\n",
              "      <th>writing_score</th>\n",
              "      <th>science_score</th>\n",
              "    </tr>\n",
              "  </thead>\n",
              "  <tbody>\n",
              "    <tr>\n",
              "      <th>0</th>\n",
              "      <td>male</td>\n",
              "      <td>89.0</td>\n",
              "      <td>38.0</td>\n",
              "      <td>85.0</td>\n",
              "      <td>26.0</td>\n",
              "    </tr>\n",
              "    <tr>\n",
              "      <th>1</th>\n",
              "      <td>male</td>\n",
              "      <td>65.0</td>\n",
              "      <td>100.0</td>\n",
              "      <td>67.0</td>\n",
              "      <td>96.0</td>\n",
              "    </tr>\n",
              "    <tr>\n",
              "      <th>2</th>\n",
              "      <td>male</td>\n",
              "      <td>10.0</td>\n",
              "      <td>99.0</td>\n",
              "      <td>97.0</td>\n",
              "      <td>58.0</td>\n",
              "    </tr>\n",
              "    <tr>\n",
              "      <th>3</th>\n",
              "      <td>male</td>\n",
              "      <td>22.0</td>\n",
              "      <td>51.0</td>\n",
              "      <td>41.0</td>\n",
              "      <td>84.0</td>\n",
              "    </tr>\n",
              "    <tr>\n",
              "      <th>4</th>\n",
              "      <td>male</td>\n",
              "      <td>26.0</td>\n",
              "      <td>58.0</td>\n",
              "      <td>64.0</td>\n",
              "      <td>65.0</td>\n",
              "    </tr>\n",
              "    <tr>\n",
              "      <th>...</th>\n",
              "      <td>...</td>\n",
              "      <td>...</td>\n",
              "      <td>...</td>\n",
              "      <td>...</td>\n",
              "      <td>...</td>\n",
              "    </tr>\n",
              "    <tr>\n",
              "      <th>9995</th>\n",
              "      <td>female</td>\n",
              "      <td>78.0</td>\n",
              "      <td>60.0</td>\n",
              "      <td>46.0</td>\n",
              "      <td>58.0</td>\n",
              "    </tr>\n",
              "    <tr>\n",
              "      <th>9996</th>\n",
              "      <td>female</td>\n",
              "      <td>37.0</td>\n",
              "      <td>92.0</td>\n",
              "      <td>99.0</td>\n",
              "      <td>73.0</td>\n",
              "    </tr>\n",
              "    <tr>\n",
              "      <th>9997</th>\n",
              "      <td>female</td>\n",
              "      <td>70.0</td>\n",
              "      <td>71.0</td>\n",
              "      <td>100.0</td>\n",
              "      <td>90.0</td>\n",
              "    </tr>\n",
              "    <tr>\n",
              "      <th>9998</th>\n",
              "      <td>female</td>\n",
              "      <td>87.0</td>\n",
              "      <td>60.0</td>\n",
              "      <td>100.0</td>\n",
              "      <td>89.0</td>\n",
              "    </tr>\n",
              "    <tr>\n",
              "      <th>9999</th>\n",
              "      <td>female</td>\n",
              "      <td>31.0</td>\n",
              "      <td>89.0</td>\n",
              "      <td>93.0</td>\n",
              "      <td>80.0</td>\n",
              "    </tr>\n",
              "  </tbody>\n",
              "</table>\n",
              "<p>10000 rows × 5 columns</p>\n",
              "</div>"
            ],
            "text/plain": [
              "      gender math_score  reading_score  writing_score  science_score\n",
              "0       male       89.0           38.0           85.0           26.0\n",
              "1       male       65.0          100.0           67.0           96.0\n",
              "2       male       10.0           99.0           97.0           58.0\n",
              "3       male       22.0           51.0           41.0           84.0\n",
              "4       male       26.0           58.0           64.0           65.0\n",
              "...      ...        ...            ...            ...            ...\n",
              "9995  female       78.0           60.0           46.0           58.0\n",
              "9996  female       37.0           92.0           99.0           73.0\n",
              "9997  female       70.0           71.0          100.0           90.0\n",
              "9998  female       87.0           60.0          100.0           89.0\n",
              "9999  female       31.0           89.0           93.0           80.0\n",
              "\n",
              "[10000 rows x 5 columns]"
            ]
          },
          "execution_count": 457,
          "metadata": {},
          "output_type": "execute_result"
        }
      ],
      "source": [
        "df2 = df2.drop([  'lunch' , 'test_preparation_course' ,'total_score', 'Percentage' ,'grade' ], axis = 1)\n",
        "df2"
      ]
    },
    {
      "cell_type": "code",
      "execution_count": null,
      "id": "2d3c4d0f-c8a1-45ea-b0c3-cfc50807fa02",
      "metadata": {
        "id": "2d3c4d0f-c8a1-45ea-b0c3-cfc50807fa02",
        "outputId": "62b23b5a-38b5-4cc7-9eba-59d0664343d7"
      },
      "outputs": [
        {
          "data": {
            "text/plain": [
              "<Axes: >"
            ]
          },
          "execution_count": 350,
          "metadata": {},
          "output_type": "execute_result"
        },
        {
          "data": {
            "image/png": "[encoded data removed]",
            "text/plain": [
              "<Figure size 640x480 with 1 Axes>"
            ]
          },
          "metadata": {},
          "output_type": "display_data"
        }
      ],
      "source": [
        "df2.plot(kind = 'area', grid = True )"
      ]
    },
    {
      "cell_type": "code",
      "execution_count": null,
      "id": "08b89954-2c06-4f33-83e3-31dab8bc7810",
      "metadata": {
        "id": "08b89954-2c06-4f33-83e3-31dab8bc7810"
      },
      "outputs": [],
      "source": []
    },
    {
      "cell_type": "code",
      "execution_count": null,
      "id": "4fb0a5ac-c522-462c-b6cc-928692f72578",
      "metadata": {
        "id": "4fb0a5ac-c522-462c-b6cc-928692f72578"
      },
      "outputs": [],
      "source": []
    }
  ],
  "metadata": {
    "kernelspec": {
      "display_name": "Python 3 (ipykernel)",
      "language": "python",
      "name": "python3"
    },
    "language_info": {
      "codemirror_mode": {
        "name": "ipython",
        "version": 3
      },
      "file_extension": ".py",
      "mimetype": "text/x-python",
      "name": "python",
      "nbconvert_exporter": "python",
      "pygments_lexer": "ipython3",
      "version": "3.12.4"
    },
    "colab": {
      "provenance": [],
      "include_colab_link": true
    }
  },
  "nbformat": 4,
  "nbformat_minor": 5
}